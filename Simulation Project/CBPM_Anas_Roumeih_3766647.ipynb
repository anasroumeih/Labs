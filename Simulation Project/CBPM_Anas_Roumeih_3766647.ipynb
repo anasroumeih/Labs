{
 "cells": [
  {
   "cell_type": "markdown",
   "metadata": {},
   "source": [
    "# Anas Roumeih 3766647"
   ]
  },
  {
   "cell_type": "markdown",
   "metadata": {},
   "source": [
    "This notebook shows a simulation of a wave packet colliding with a rectangular potential, written in python. This simulation illustrates the key quantum mechanics concepts of quantum tunneling, and reflection."
   ]
  },
  {
   "cell_type": "markdown",
   "metadata": {},
   "source": [
    "The Hamiltonian of an electron (atomic units $\\hbar = m_e = 1$): \n",
    "\n",
    "$$ \\hat{H} = -\\frac{1}{2}\\frac{\\text{d}^2}{\\text{d}x^2} + V(x) $$\n",
    "\n",
    "Where the potential is given by:\n",
    "\n",
    "$$ V(x) =  \\left\\{\n",
    "\\begin{array}{ll}\n",
    "      V_0 & x_{min} \\leq x \\leq x_{max} \\\\\n",
    "      0 & \\text{else} \\\\\n",
    "\\end{array} \n",
    "\\right.$$ \n",
    "\n",
    "The initial wave packet is given by [1]: \n",
    "\n",
    "$$ \\psi(x) = \\left( \\frac{1}{2\\pi \\sigma_0^2} \\right)^{\\frac{1}{4}} \\exp\\left( -\\frac{(x - x_0)^2}{4\\sigma_0^2} \\right) \\exp(i k_0 x) $$"
   ]
  },
  {
   "cell_type": "code",
   "execution_count": 18,
   "metadata": {},
   "outputs": [],
   "source": [
    "import matplotlib\n",
    "matplotlib.use('TkAgg')\n",
    "import numpy as np\n",
    "import matplotlib.pyplot as plt\n",
    "import scipy as sp\n",
    "from scipy.sparse import linalg as la\n",
    "from scipy import sparse \n",
    "import matplotlib.animation as anim\n"
   ]
  },
  {
   "cell_type": "code",
   "execution_count": 2,
   "metadata": {},
   "outputs": [],
   "source": [
    "class WavePacket:\n",
    "    def __init__(self, grid_size, time_step, potential_height, potential_width, wave_number = 1, packet_width=5.0, packet_center=-50.0, x_min=-200.0, x_max=200.0):\n",
    "\n",
    "        self.grid_size = grid_size        # Number of points in the spatial grid\n",
    "        self.time_step = time_step        # Time between each update of the wave function\n",
    "        self.potential_height = potential_height  # Height of the potential barrier\n",
    "        self.potential_width = potential_width    # Width of the potential barrier\n",
    "        self.packet_width = packet_width  # Initial width of the Gaussian wave packet\n",
    "        self.wave_number = wave_number    # Initial wave number (momentum)\n",
    "        self.packet_center = packet_center  # Initial center of the wave packet\n",
    "        self.prob_density = np.zeros(grid_size)  # Probability density array initialization\n",
    "\n",
    "        \"\"\" Step 1: Discretize the spatial grid \"\"\"\n",
    "        self.x_values, self.delta_x = np.linspace(x_min, x_max, grid_size, retstep=True)  # Set up the spatial grid\n",
    "\n",
    "        \"\"\" Step 2: Initialize the wave function (Gaussian wave packet) \"\"\"\n",
    "        self.wave_function = np.exp(-(self.x_values - packet_center)**2 / (4.0 * packet_width**2)).astype(np.complex128) #Gaussian\n",
    "        self.wave_function *= np.exp(1.0j * wave_number * self.x_values) #plane wave factor\n",
    "        self.wave_function *= (2.0 * np.pi * packet_width**2)**(-0.25) #normalization factor\n",
    "\n",
    "        \"\"\" Step 3: Create the potential barrier \"\"\"\n",
    "        self.potential_barrier = np.array([potential_height if 0.0 < x < potential_width else 0.0 for x in self.x_values])\n",
    "\n",
    "        \"\"\" Step 4: Build the Hamiltonian matrix \"\"\"\n",
    "        diag_elements = np.ones(grid_size) / self.delta_x**2 + self.potential_barrier # diagonal elements\n",
    "        off_diag_elements = np.ones(grid_size - 1) * (-0.5 / self.delta_x**2) #off diagonal elements\n",
    "        hamiltonian_matrix = sparse.diags([diag_elements, off_diag_elements, off_diag_elements], [0, 1, -1]) #combine all elements\n",
    "\n",
    "        \"\"\" Step 5: Calculate the Crank-Nicolson evolution matrix \"\"\"\n",
    "        backward_part = (sparse.eye(self.grid_size) - time_step / 2.0j * hamiltonian_matrix).tocsc() #the matrix B\n",
    "        forward_part = (sparse.eye(self.grid_size) + time_step / 2.0j * hamiltonian_matrix).tocsc() #the matrix A, csc (Compressed Sparse Column) format is used for efficient matrix operations\n",
    "        self.evolution_operator = la.inv(backward_part).dot(forward_part) # A inverse times B\n",
    "\n",
    "    def evolve_wave_function(self):\n",
    "        self.wave_function = self.evolution_operator.dot(self.wave_function)  # Apply the evolution matrix\n",
    "        self.prob_density = abs(self.wave_function)**2  # Calculate probability density\n",
    "\n",
    "        # Normalize the probability density and wavefunction\n",
    "        total_probability = sum(self.prob_density) \n",
    "        self.prob_density /= total_probability\n",
    "        self.wave_function /= total_probability**0.5\n",
    "\n",
    "        return self.prob_density  # Return the updated probability density"
   ]
  },
  {
   "cell_type": "markdown",
   "metadata": {},
   "source": [
    "In the code, the Hamiltonian operator is discretized and represented as a matrix. This matrix (which is trigonal) acts on the discretized wave function to evolve it in time. The kinetic energy term has diagonal and off-diagonal contributions according to: \n",
    "\n",
    "$$ \\frac{\\text{d}^2 \\psi}{\\text{d}x^2} \\approx \\frac{\\psi_{i+1} - 2\\psi_i + \\psi_{i-1}}{\\Delta x^2}$$\n",
    "\n",
    "While the potential energy only has diagonal terms. The descretized Hamiltonain matrix will take the form: \n",
    "\n",
    "$$ H =\n",
    "\\begin{pmatrix}\n",
    "\\frac{1}{\\Delta x^2} + V(x_0) & -\\frac{0.5}{\\Delta x^2} & 0 & \\cdots & 0 \\\\\n",
    "-\\frac{0.5}{\\Delta x^2} & \\frac{1}{\\Delta x^2} + V(x_1) & -\\frac{0.5}{\\Delta x^2} & \\cdots & 0 \\\\\n",
    "0 & -\\frac{0.5}{\\Delta x^2} & \\frac{1}{\\Delta x^2} + V(x_2) & \\cdots & 0 \\\\\n",
    "\\vdots & \\vdots & \\vdots & \\ddots & \\vdots \\\\\n",
    "0 & 0 & 0 & \\cdots & \\frac{1}{\\Delta x^2} + V(x_{n-1})\n",
    "\\end{pmatrix}\n",
    "\n",
    "$$"
   ]
  },
  {
   "cell_type": "markdown",
   "metadata": {},
   "source": [
    "The Schrodinger equation: \n",
    "\n",
    "$$\\frac{\\partial \\psi(x, t)}{\\partial t} = -i \\hat{H} \\psi(x, t)$$ \n",
    "\n",
    "The Crank-Nicolson method approximates this equation at a time step $n$ and $n+1$ as follows [2]:\n",
    "\n",
    "$$ \\frac{\\psi^{n+1} - \\psi^n}{\\Delta t} = -i \\frac{\\hat{H} \\psi^{n+1} + \\hat{H} \\psi^n}{2} $$\n",
    "\n",
    "Rearranging gives:\n",
    "\n",
    "$$ \\left( I + \\frac{i \\Delta t}{2} \\hat{H} \\right) \\psi^{n+1} = \\left( I - \\frac{i \\Delta t}{2} \\hat{H} \\right) \\psi^n $$ \n",
    "\n",
    "Where $I$ is the identity matrix (representing the wave function without any Hamiltonian influence). If we set $A = \\left( I + \\frac{i \\Delta t}{2} \\hat{H} \\right)$ and $ B =\\left( I - \\frac{i \\Delta t}{2} \\hat{H} \\right) $ we get the final equation: \n",
    "\n",
    "$$ \\psi^{n+1} = A^{-1} B \\psi^n $$\n",
    "\n",
    "\n"
   ]
  },
  {
   "cell_type": "code",
   "execution_count": 5,
   "metadata": {},
   "outputs": [],
   "source": [
    "class WaveAnimation:\n",
    "    def __init__(self, wave_packet, max_steps):\n",
    "        self.current_time = 0.0  # Initialize the time counter\n",
    "        self.wave_sim = wave_packet  # Store the wave simulation object\n",
    "        self.fig, self.ax = plt.subplots()  # Create a figure and axes for plotting\n",
    "\n",
    "        # Add text for displaying time\n",
    "        self.time_display = self.ax.text(0.05, 0.95, '', horizontalalignment='left', verticalalignment='top', transform=self.ax.transAxes)\n",
    "\n",
    "        # Plot the potential barrier scaled by 0.1 for visibility\n",
    "        plt.plot(self.wave_sim.x_values, self.wave_sim.potential_barrier * 0.1, color='r')\n",
    "\n",
    "        # Plot the initial probability density of the wave packet\n",
    "        self.prob_line, = self.ax.plot(self.wave_sim.x_values, self.wave_sim.evolve_wave_function())\n",
    "\n",
    "        # Set plot limits and labels\n",
    "        self.ax.set_ylim(0, 0.2)\n",
    "        self.ax.set_xlabel('Position (a$_0$)') #position meausured in units of Bohr radius\n",
    "        self.ax.set_ylabel('Probability Density')\n",
    "\n",
    "        self.max_steps = max_steps  # Maximum number of time steps to run\n",
    "        self.current_step = 0       # Current step counte\n",
    "\n",
    "    def update_plot(self, new_data):\n",
    "        # Update the plot with new probability density data\n",
    "        self.prob_line.set_ydata(new_data) #set_ydata is a method of the Line2D class from matplotlib\n",
    "        return self.prob_line,\n",
    "\n",
    "    def time_generator(self):\n",
    "        while self.current_step < self.max_steps:\n",
    "            # Increment the elapsed time by the time step size of the wave packet\n",
    "            self.current_time += self.wave_sim.time_step\n",
    "\n",
    "            # Update the displayed time text with the current time in femtoseconds (unit conversion from atomic units to femtoseconds)\n",
    "            self.time_display.set_text(f'Elapsed time: {self.current_time * 2.419e-2:.2f} fs')\n",
    "\n",
    "            # Yield the updated probability density from the wave packet's evolution\n",
    "            yield self.wave_sim.evolve_wave_function()\n",
    "            self.current_step += 1\n",
    "        plt.close(self.fig)  # Close the figure when max_steps is reached\n",
    "\n",
    "    def start_animation(self):\n",
    "        # Create the animation by repeatedly calling the update_plot method with new data\n",
    "        self.animation = anim.FuncAnimation(self.fig, self.update_plot, self.time_generator, interval=5, blit=False, cache_frame_data=False) #based on FuncAnimation class from matplotlib, blit = False ensures that the entire plot is redrawn at each frame"
   ]
  },
  {
   "cell_type": "markdown",
   "metadata": {},
   "source": [
    "The Transmission coefficient is given by the equation [2]: $$ T(E) = e^{-2 \\sqrt{2m(V_0 - E)}\\Delta x}  $$\n",
    "\n",
    "where $m$ is the mass of the particle, $\\Delta x$ is the barrier width, $V_0$ is the barrier height and $E$ is the energy of the particle."
   ]
  },
  {
   "cell_type": "markdown",
   "metadata": {},
   "source": [
    "### 1. Complete reflection, potential too wide and high"
   ]
  },
  {
   "cell_type": "code",
   "execution_count": 25,
   "metadata": {},
   "outputs": [],
   "source": [
    "wave_packet = WavePacket(grid_size=500, time_step=5, potential_width=10, potential_height=1)\n",
    "animator1 = WaveAnimation(wave_packet, max_steps=100)\n",
    "animator1.start_animation()\n",
    "plt.show()\n"
   ]
  },
  {
   "cell_type": "code",
   "execution_count": null,
   "metadata": {},
   "outputs": [],
   "source": [
    "HTML(animator1.animation.to_html5_video())\n"
   ]
  },
  {
   "cell_type": "markdown",
   "metadata": {},
   "source": [
    "### 2. Transmission occurs for a narrower potential"
   ]
  },
  {
   "cell_type": "code",
   "execution_count": 81,
   "metadata": {},
   "outputs": [],
   "source": [
    "#narrow potential barrier\n",
    "wave_packet = WavePacket(grid_size=500, time_step=5, potential_width=1, potential_height=1)\n",
    "animator2 = WaveAnimation(wave_packet)\n",
    "animator2.start_animation()\n",
    "plt.show()"
   ]
  },
  {
   "cell_type": "code",
   "execution_count": null,
   "metadata": {},
   "outputs": [],
   "source": [
    "HTML(animator2.animation.to_html5_video())"
   ]
  },
  {
   "cell_type": "markdown",
   "metadata": {},
   "source": [
    "### 3. Transmission occurs however it is weaker"
   ]
  },
  {
   "cell_type": "code",
   "execution_count": 82,
   "metadata": {},
   "outputs": [],
   "source": [
    "# lower potential barrier\n",
    "wave_packet = WavePacket(grid_size=500, time_step=5, potential_width=10, potential_height=0.5)\n",
    "animator3 = WaveAnimation(wave_packet)\n",
    "animator3.start_animation()\n",
    "plt.show()"
   ]
  },
  {
   "cell_type": "code",
   "execution_count": null,
   "metadata": {},
   "outputs": [],
   "source": [
    "HTML(animator3.animation.to_html5_video())"
   ]
  },
  {
   "cell_type": "markdown",
   "metadata": {},
   "source": [
    "### 4. Reflection happens along with transmission, clasically unexpected"
   ]
  },
  {
   "cell_type": "code",
   "execution_count": 83,
   "metadata": {},
   "outputs": [],
   "source": [
    "# potential barrier less than energy of wave packet\n",
    "wave_packet = WavePacket(grid_size=500, time_step=5, potential_width=10, potential_height=0.3)\n",
    "animator4 = WaveAnimation(wave_packet)\n",
    "animator4.start_animation()\n",
    "plt.show()"
   ]
  },
  {
   "cell_type": "code",
   "execution_count": null,
   "metadata": {},
   "outputs": [],
   "source": [
    "HTML(animator4.animation.to_html5_video())"
   ]
  },
  {
   "cell_type": "markdown",
   "metadata": {},
   "source": [
    "The animations are in accordance with the equation for the trasmission coefficient, as decreasing the potnetial height or width results in a higher transmission coefficient. Overall we see that a wave packet could be transmitted or reflected even if its energy is lower or higher than the potential barrier."
   ]
  },
  {
   "cell_type": "markdown",
   "metadata": {},
   "source": [
    "### References:\n",
    "[1] David Jeffrey Griffiths, et al. Introduction to Quantum Mechanics. 3rd ed., Cambridge, Cambridge University Press, 2018.\n",
    "\n",
    "[2] “Python Implementation of Crank-Nicolson Scheme.” Marginalia, www.claudiobellei.com/2016/11/10/crank-nicolson/."
   ]
  },
  {
   "cell_type": "code",
   "execution_count": null,
   "metadata": {},
   "outputs": [],
   "source": []
  },
  {
   "cell_type": "code",
   "execution_count": null,
   "metadata": {},
   "outputs": [],
   "source": []
  }
 ],
 "metadata": {
  "kernelspec": {
   "display_name": "Python 3",
   "language": "python",
   "name": "python3"
  },
  "language_info": {
   "codemirror_mode": {
    "name": "ipython",
    "version": 3
   },
   "file_extension": ".py",
   "mimetype": "text/x-python",
   "name": "python",
   "nbconvert_exporter": "python",
   "pygments_lexer": "ipython3",
   "version": "3.10.2"
  }
 },
 "nbformat": 4,
 "nbformat_minor": 2
}
