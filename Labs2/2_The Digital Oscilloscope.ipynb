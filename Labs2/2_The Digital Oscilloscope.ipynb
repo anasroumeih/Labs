{
  "nbformat": 4,
  "nbformat_minor": 0,
  "metadata": {
    "colab": {
      "provenance": []
    },
    "kernelspec": {
      "name": "python3",
      "display_name": "Python 3"
    },
    "language_info": {
      "name": "python"
    }
  },
  "cells": [
    {
      "cell_type": "code",
      "execution_count": null,
      "metadata": {
        "id": "_bvM40EiDdPZ"
      },
      "outputs": [],
      "source": [
        "# importing modules\n",
        "import numpy as np\n",
        "import pandas as pd\n",
        "import seaborn as sns\n",
        "import scipy as sp\n",
        "import matplotlib.pyplot as plt\n",
        "\n",
        "from scipy import stats\n",
        "from scipy import optimize\n",
        "from scipy.optimize import curve_fit\n",
        "from scipy import fftpack\n",
        "from scipy.integrate import cumulative_trapezoid"
      ]
    },
    {
      "cell_type": "code",
      "source": [
        "#importing data\n",
        "a1a_8bits = pd.read_csv('https://raw.githubusercontent.com/kundiilona/GP2/main/1a_8bits.csv', delimiter = ',', decimal = '.')\n",
        "a1a_12bits = pd.read_csv('https://raw.githubusercontent.com/kundiilona/GP2/main/1a_12bits.csv', delimiter = ',', decimal = '.')\n",
        "a1a_14bits = pd.read_csv('https://raw.githubusercontent.com/kundiilona/GP2/main/1a_14bits.csv', delimiter = ',', decimal = '.')\n",
        "b1b_dbV = pd.read_csv('https://raw.githubusercontent.com/kundiilona/GP2/main/1b_dbV.csv', delimiter = ',', decimal = '.')\n",
        "b1b_lin = pd.read_csv('https://raw.githubusercontent.com/kundiilona/GP2/main/1b_lin.csv', delimiter = ',', decimal = '.')\n",
        "b1b_wav = pd.read_csv('https://raw.githubusercontent.com/kundiilona/GP2/main/1b_wave.csv', delimiter = ',', decimal = '.')\n",
        "a2a_10kHz_scope = pd.read_csv('https://raw.githubusercontent.com/kundiilona/GP2/main/2a_10kHz_scope.csv', delimiter = ',', decimal = '.')\n",
        "a2a_10kHz_spec = pd.read_csv('https://raw.githubusercontent.com/kundiilona/GP2/main/2a_10kHz_spec.csv', delimiter = ',', decimal = '.')\n",
        "a2a_90kHz_scope = pd.read_csv('https://raw.githubusercontent.com/kundiilona/GP2/main/2a_90kHz_scope.csv', delimiter = ',', decimal = '.')\n",
        "a2a_90kHz_spec = pd.read_csv('https://raw.githubusercontent.com/kundiilona/GP2/main/2a_90kHz_spec.csv', delimiter = ',', decimal = '.')\n",
        "a2a_110kHz_scope = pd.read_csv('https://raw.githubusercontent.com/kundiilona/GP2/main/2a_110kHz_scope.csv', delimiter = ',', decimal = '.')\n",
        "a2a_110kHz_spec = pd.read_csv('https://raw.githubusercontent.com/kundiilona/GP2/main/2a_110kHz_spec.csv', delimiter = ',', decimal = '.')\n",
        "a2a_190kHz_scope = pd.read_csv('https://raw.githubusercontent.com/kundiilona/GP2/main/2a_190kHz_scope.csv', delimiter = ',', decimal = '.')\n",
        "a2a_190kHz_spec = pd.read_csv('https://raw.githubusercontent.com/kundiilona/GP2/main/2a_190kHz_spec.csv', delimiter = ',', decimal = '.')\n",
        "a2a_210kHz_scope = pd.read_csv('https://raw.githubusercontent.com/kundiilona/GP2/main/2a_210kHz_scope.csv', delimiter = ',', decimal = '.')\n",
        "a2a_210kHz_spec = pd.read_csv('https://raw.githubusercontent.com/kundiilona/GP2/main/2a_210kHz_spec.csv', delimiter = ',', decimal = '.')\n",
        "a2a_290kHz_scope = pd.read_csv('https://raw.githubusercontent.com/kundiilona/GP2/main/2a_290kHz_scope.csv', delimiter = ',', decimal = '.')\n",
        "a2a_290kHz_spec = pd.read_csv('https://raw.githubusercontent.com/kundiilona/GP2/main/2a_290kHz_spec.csv', delimiter = ',', decimal = '.')\n",
        "b2b_5kHz_scope = pd.read_csv('https://raw.githubusercontent.com/kundiilona/GP2/main/2b_5kHz_scope.csv', delimiter = ',', decimal = '.')\n",
        "b2b_5kHz_spec = pd.read_csv('https://raw.githubusercontent.com/kundiilona/GP2/main/2b_5kHz_spec.csv', delimiter = ',', decimal = '.')\n",
        "b2b_7kHz_scope = pd.read_csv('https://raw.githubusercontent.com/kundiilona/GP2/main/2b_7kHz_scope.csv', delimiter = ',', decimal = '.')\n",
        "b2b_7kHz_spec = pd.read_csv('https://raw.githubusercontent.com/kundiilona/GP2/main/2b_7kHz_spec.csv', delimiter = ',', decimal = '.')\n",
        "a3a_1kHz = pd.read_csv('https://raw.githubusercontent.com/kundiilona/GP2/main/3a_1kHz.csv', delimiter = ',', decimal = '.')\n",
        "b3b_500kHz = pd.read_csv('https://raw.githubusercontent.com/kundiilona/GP2/main/3b_500kHz.csv', delimiter = ',', decimal = '.')\n",
        "a4_scope = pd.read_csv('https://raw.githubusercontent.com/kundiilona/GP2/main/4_scope.csv', delimiter = ',', decimal = '.')\n",
        "a4_spec_black = pd.read_csv('https://raw.githubusercontent.com/kundiilona/GP2/main/4_spec_black.csv', delimiter = ',', decimal = '.')\n",
        "a4_spec_flat = pd.read_csv('https://raw.githubusercontent.com/kundiilona/GP2/main/4_spec_flat.csv', delimiter = ',', decimal = '.')"
      ],
      "metadata": {
        "id": "OZK_QQORIpCv",
        "colab": {
          "base_uri": "https://localhost:8080/"
        },
        "outputId": "dbf88773-18eb-4a71-ead7-0dbc216c2167"
      },
      "execution_count": null,
      "outputs": [
        {
          "output_type": "stream",
          "name": "stderr",
          "text": [
            "<ipython-input-2-e9993286cc35>:2: DtypeWarning: Columns (0,1) have mixed types. Specify dtype option on import or set low_memory=False.\n",
            "  a1a_8bits = pd.read_csv('https://raw.githubusercontent.com/kundiilona/GP2/main/1a_8bits.csv', delimiter = ',', decimal = '.')\n",
            "<ipython-input-2-e9993286cc35>:3: DtypeWarning: Columns (0,1) have mixed types. Specify dtype option on import or set low_memory=False.\n",
            "  a1a_12bits = pd.read_csv('https://raw.githubusercontent.com/kundiilona/GP2/main/1a_12bits.csv', delimiter = ',', decimal = '.')\n",
            "<ipython-input-2-e9993286cc35>:4: DtypeWarning: Columns (0,1) have mixed types. Specify dtype option on import or set low_memory=False.\n",
            "  a1a_14bits = pd.read_csv('https://raw.githubusercontent.com/kundiilona/GP2/main/1a_14bits.csv', delimiter = ',', decimal = '.')\n"
          ]
        }
      ]
    },
    {
      "cell_type": "markdown",
      "source": [
        "Task 1\n",
        "a) For this task we measured the same sine signal of 1 kHz, with a fixed range of $\\pm$1 V with resolutions of 8 bit, 12 bit and 16 bit. The discretization steps we calculated from the distance between neighbouring values in the vertical direction, i.e. in the measured voltage. We found them to be the following (using resolution $= log_2(\\frac{2}{\\Delta y}$) ):\n",
        "\n",
        "8 bit (nominal value: $7.812$ mV): $\\Delta y = 9.412 $ mV ($ \\approx 7.731$ bit)\n",
        "\n",
        "12 bit (nominal value: $0.244$ mV): $\\Delta y = 0.518 $ mV ($ \\approx 11.912$ bit)\n",
        "\n",
        "14 bit (nominal value: $0.122$ mV): $\\Delta y = 0.122 $ mV ($ \\approx 14.000$ bit)\n",
        "\n",
        "So we observe that the higher the resolution, the smaller the discretization steps, i.e. the more accurate the measurement."
      ],
      "metadata": {
        "id": "oUGiWNkr_Cqj"
      }
    },
    {
      "cell_type": "code",
      "source": [
        "# creating arrays\n",
        "a1a_8bits_time = np.array(a1a_8bits['Time'])[1:].astype(float)\n",
        "a1a_8bits_voltage = np.array(a1a_8bits['Channel A'])[1:].astype(float)\n",
        "\n",
        "a1a_12bits_time = np.array(a1a_12bits['Time'])[1:].astype(float)\n",
        "a1a_12bits_voltage = np.array(a1a_12bits['Channel A'])[1:].astype(float)\n",
        "\n",
        "a1a_14bits_time = np.array(a1a_14bits['Time'])[1:].astype(float)\n",
        "a1a_14bits_voltage = np.array(a1a_14bits['Channel A'])[1:].astype(float)"
      ],
      "metadata": {
        "id": "sA9nYSPOK5-w"
      },
      "execution_count": null,
      "outputs": []
    },
    {
      "cell_type": "code",
      "source": [
        "plt.plot(a1a_8bits_time, a1a_8bits_voltage)\n",
        "plt.xlim([-5,5])\n",
        "plt.xlabel('Time (ms)')\n",
        "plt.ylabel('Voltage (V)')\n",
        "plt.title('Pure sine wave, 8 bits')\n",
        "plt.axhline(y = 0, ls = 'dotted', color = 'gray', zorder = -1)\n",
        "plt.savefig('1a_8bits.png')\n",
        "plt.close()"
      ],
      "metadata": {
        "id": "LbBesRHn5W5v"
      },
      "execution_count": null,
      "outputs": []
    },
    {
      "cell_type": "code",
      "source": [
        "plt.plot(a1a_12bits_time, a1a_12bits_voltage)\n",
        "plt.xlim([-5,5])\n",
        "plt.xlabel('Time (ms)')\n",
        "plt.ylabel('Voltage (V)')\n",
        "plt.title('Pure sine wave, 12 bits')\n",
        "plt.axhline(y = 0, ls = 'dotted', color = 'gray', zorder = -1)\n",
        "plt.savefig('1a_12bits.png')\n",
        "plt.close()"
      ],
      "metadata": {
        "id": "G6uXlGEx-fvd"
      },
      "execution_count": null,
      "outputs": []
    },
    {
      "cell_type": "code",
      "source": [
        "plt.plot(a1a_14bits_time, a1a_14bits_voltage)\n",
        "plt.xlim([-5,5])\n",
        "plt.xlabel('Time (ms)')\n",
        "plt.ylabel('Voltage (V)')\n",
        "plt.title('Pure sine wave, 14 bits')\n",
        "plt.axhline(y = 0, ls = 'dotted', color = 'gray', zorder = -1)\n",
        "plt.savefig('1a_14bits.png')\n",
        "plt.close()"
      ],
      "metadata": {
        "id": "iPzOCDXV-1CZ"
      },
      "execution_count": null,
      "outputs": []
    },
    {
      "cell_type": "code",
      "source": [
        "def min_dist(x):\n",
        "  min = 10\n",
        "  n = np.size(x[:500])\n",
        "  for i in range(0,n):\n",
        "    dist = abs(x[i+1]-x[i])\n",
        "    if (min > dist and dist!=0):\n",
        "      min = dist\n",
        "  return min"
      ],
      "metadata": {
        "id": "D_l1mUqfdlgN"
      },
      "execution_count": null,
      "outputs": []
    },
    {
      "cell_type": "code",
      "source": [
        "# determining discretization step\n",
        "a = min_dist(a1a_8bits_voltage)\n",
        "b = min_dist(a1a_12bits_voltage)\n",
        "c = min_dist(a1a_14bits_voltage)\n",
        "a, b, c"
      ],
      "metadata": {
        "colab": {
          "base_uri": "https://localhost:8080/"
        },
        "id": "_lb0Y-WHeM9S",
        "outputId": "e83742e1-069d-4fbe-f18b-c1e4e94f7c95"
      },
      "execution_count": null,
      "outputs": [
        {
          "output_type": "execute_result",
          "data": {
            "text/plain": [
              "(0.0094119, 0.0005188099999999946, 0.00012206999999999496)"
            ]
          },
          "metadata": {},
          "execution_count": 8
        }
      ]
    },
    {
      "cell_type": "code",
      "source": [
        "bit8 = np.log2(2/a)\n",
        "bit12 = np.log2(2/b)\n",
        "bit14 = np.log2(2/c)\n",
        "print(bit8, bit12, bit14)"
      ],
      "metadata": {
        "colab": {
          "base_uri": "https://localhost:8080/"
        },
        "id": "wP2nS3WP_k8g",
        "outputId": "6fc25208-6ccc-45ea-faf6-b7486652efc2"
      },
      "execution_count": null,
      "outputs": [
        {
          "output_type": "stream",
          "name": "stdout",
          "text": [
            "7.73129829243291 11.912506091919434 14.000003693304091\n"
          ]
        }
      ]
    },
    {
      "cell_type": "code",
      "source": [
        "calc_12bit = (a1a_12bits_time[4000] - a1a_12bits_time[0])/4001\n",
        "nom_12bit = 2/(2**12)\n",
        "nombit2 = np.log2(2/calc_12bit)\n",
        "print(calc_12bit, nom_12bit, nombit2)"
      ],
      "metadata": {
        "colab": {
          "base_uri": "https://localhost:8080/"
        },
        "id": "PON8c-qcDW4s",
        "outputId": "89b844b6-8b3e-455a-96c0-4bc891ebe288"
      },
      "execution_count": null,
      "outputs": [
        {
          "output_type": "stream",
          "name": "stdout",
          "text": [
            "6.398400149962582e-05 0.00048828125 14.931929254362949\n"
          ]
        }
      ]
    },
    {
      "cell_type": "code",
      "source": [
        "calc_14bit = (a1a_14bits_time[4000] - a1a_14bits_time[0])/4001\n",
        "nom_14bit = 2/(2**14)\n",
        "nombit3 = np.log2(2/calc_14bit)\n",
        "print(calc_14bit, nom_14bit, nombit3)"
      ],
      "metadata": {
        "colab": {
          "base_uri": "https://localhost:8080/"
        },
        "id": "r37xXJQyFsa5",
        "outputId": "5a6893e7-6f50-40bf-fd01-0b7a51ddaf97"
      },
      "execution_count": null,
      "outputs": [
        {
          "output_type": "stream",
          "name": "stdout",
          "text": [
            "5.598600099974991e-05 0.0001220703125 15.12457434035612\n"
          ]
        }
      ]
    },
    {
      "cell_type": "markdown",
      "source": [
        "b) For this task we measured the frequency spectrum of pure sine wave of 10 kHz with 14 bit and using the Blackman window. We saved the data both in linear scale and in dBV units. We also calculated the dBv units using the data saved in linear scale, and compared it with the data saved in dBV scale. We can clearly see that although the plots for the two datasets have the same overall shapes, the amplitudes of the peaks in the originally dBv scale are much higher and so it gives us more clearly discernible peaks. So it is better to store data driectly in dBV units."
      ],
      "metadata": {
        "id": "YtbX9vOqI7QX"
      }
    },
    {
      "cell_type": "code",
      "source": [
        "# creating arrays\n",
        "b1b_wav_time = np.array(b1b_wav['Time'])[1:].astype(float)\n",
        "b1b_wav_voltage = np.array(b1b_wav['Channel A'])[1:].astype(float)\n",
        "b1b_lin_freq = np.array(b1b_lin['Frequency'])[1:].astype(float)\n",
        "b1b_lin_voltage = np.array(b1b_lin['Channel A'])[1:].astype(float)\n",
        "b1b_dbV_freq = np.array(b1b_dbV['Frequency'])[1:].astype(float)\n",
        "b1b_dbV_voltage = np.array(b1b_dbV['Channel A'])[1:].astype(float)"
      ],
      "metadata": {
        "id": "4S-43dlDRIGU"
      },
      "execution_count": null,
      "outputs": []
    },
    {
      "cell_type": "code",
      "source": [
        "plt.plot(b1b_wav_time, b1b_wav_voltage)\n",
        "plt.xlim([-5,5])\n",
        "plt.xlabel('Time (ms)')\n",
        "plt.ylabel('Voltage (V)')\n",
        "plt.title('Pure sine wave, 14 bits')\n",
        "plt.axhline(y = 0, ls = 'dotted', color = 'gray', zorder = -1)\n",
        "plt.savefig('1b_scope.png')\n",
        "plt.close()"
      ],
      "metadata": {
        "id": "PdYalLWEIW-j"
      },
      "execution_count": null,
      "outputs": []
    },
    {
      "cell_type": "code",
      "source": [
        "# look for position of peak and its value\n",
        "max1 = np.max(b1b_lin_voltage)\n",
        "max1_index = np.argmax(b1b_lin_voltage)\n",
        "max_pos1 = np.round(b1b_lin_freq[max1_index],0)"
      ],
      "metadata": {
        "id": "YSDOGwtdJk-O"
      },
      "execution_count": null,
      "outputs": []
    },
    {
      "cell_type": "code",
      "source": [
        "# dbV scale from linear data\n",
        "b1b_dbV_voltage_calculated = 20*np.log(np.abs(b1b_dbV_voltage))*np.sign(b1b_dbV_voltage)"
      ],
      "metadata": {
        "id": "asGf7UNlMClI"
      },
      "execution_count": null,
      "outputs": []
    },
    {
      "cell_type": "code",
      "source": [
        "plt.figure(figsize = (15,5))\n",
        "\n",
        "# linear\n",
        "plt.subplot(1, 2, 1)\n",
        "plt.plot(b1b_lin_freq, b1b_lin_voltage)\n",
        "plt.xlim([0,5])\n",
        "plt.xlabel('Frequency (kHz)')\n",
        "plt.ylabel('Voltage (V)')\n",
        "plt.title('linear scale, Blackman window')\n",
        "plt.suptitle('Pure sine wave, 14 bits')\n",
        "plt.axvline(max_pos1, ls = '--', color = 'gray', zorder = -1)\n",
        "\n",
        "# dBV\n",
        "plt.subplot(1, 2, 2)\n",
        "plt.plot(b1b_dbV_freq, b1b_dbV_voltage, label = 'stored directly in dBV')\n",
        "plt.plot(b1b_dbV_freq, b1b_dbV_voltage_calculated, label = 'calculated from data in linear units')\n",
        "plt.xlim([0,5])\n",
        "plt.xlabel('Frequency (kHz)')\n",
        "plt.ylabel('Voltage (dBV)')\n",
        "plt.title('dBV scale, Blackman window')\n",
        "plt.suptitle('Pure sine wave, 14 bits')\n",
        "plt.axvline(max_pos1, ls = '--', color = 'gray', zorder = -1)\n",
        "plt.legend()\n",
        "\n",
        "plt.savefig('1b_spec.png')\n",
        "plt.close()"
      ],
      "metadata": {
        "id": "q7oi0gZQJHcU",
        "colab": {
          "base_uri": "https://localhost:8080/",
          "height": 219
        },
        "outputId": "285a52c7-fcf3-4e58-95aa-6e63c0f16087"
      },
      "execution_count": null,
      "outputs": [
        {
          "output_type": "error",
          "ename": "NameError",
          "evalue": "name 'plt' is not defined",
          "traceback": [
            "\u001b[0;31m---------------------------------------------------------------------------\u001b[0m",
            "\u001b[0;31mNameError\u001b[0m                                 Traceback (most recent call last)",
            "\u001b[0;32m<ipython-input-1-a99096fd7888>\u001b[0m in \u001b[0;36m<cell line: 1>\u001b[0;34m()\u001b[0m\n\u001b[0;32m----> 1\u001b[0;31m \u001b[0mplt\u001b[0m\u001b[0;34m.\u001b[0m\u001b[0mfigure\u001b[0m\u001b[0;34m(\u001b[0m\u001b[0mfigsize\u001b[0m \u001b[0;34m=\u001b[0m \u001b[0;34m(\u001b[0m\u001b[0;36m15\u001b[0m\u001b[0;34m,\u001b[0m\u001b[0;36m5\u001b[0m\u001b[0;34m)\u001b[0m\u001b[0;34m)\u001b[0m\u001b[0;34m\u001b[0m\u001b[0;34m\u001b[0m\u001b[0m\n\u001b[0m\u001b[1;32m      2\u001b[0m \u001b[0;34m\u001b[0m\u001b[0m\n\u001b[1;32m      3\u001b[0m \u001b[0;31m# linear\u001b[0m\u001b[0;34m\u001b[0m\u001b[0;34m\u001b[0m\u001b[0m\n\u001b[1;32m      4\u001b[0m \u001b[0mplt\u001b[0m\u001b[0;34m.\u001b[0m\u001b[0msubplot\u001b[0m\u001b[0;34m(\u001b[0m\u001b[0;36m1\u001b[0m\u001b[0;34m,\u001b[0m \u001b[0;36m2\u001b[0m\u001b[0;34m,\u001b[0m \u001b[0;36m1\u001b[0m\u001b[0;34m)\u001b[0m\u001b[0;34m\u001b[0m\u001b[0;34m\u001b[0m\u001b[0m\n\u001b[1;32m      5\u001b[0m \u001b[0mplt\u001b[0m\u001b[0;34m.\u001b[0m\u001b[0mplot\u001b[0m\u001b[0;34m(\u001b[0m\u001b[0mb1b_lin_freq\u001b[0m\u001b[0;34m,\u001b[0m \u001b[0mb1b_lin_voltage\u001b[0m\u001b[0;34m)\u001b[0m\u001b[0;34m\u001b[0m\u001b[0;34m\u001b[0m\u001b[0m\n",
            "\u001b[0;31mNameError\u001b[0m: name 'plt' is not defined"
          ]
        }
      ]
    },
    {
      "cell_type": "markdown",
      "source": [
        "2. Aliasing\n",
        "\n",
        "a) We set the oscilloscope parameters such that we had a spectrum with a cutoff  frequency of 100 kHz (Blackman window and 16384 points) and then measured the spectra of sine signals with frequencies of 10 kHz, 90 kHz, 110 kHz, 190 kHz, 210 kHz and 290 kHz.\n",
        "\n",
        "Because some of the frequencies were above the cut-off frequency of our sampling, we could clearly observe the following pattern:\n",
        " - for frequencies smaller than the cutoff frequency (10 kHz and 90 kHz) we observed a peak at their actual frequency\n",
        " - for higher frequencies the peaks were shifted depending on what interval they belonged to:\n",
        "   $$\n",
        "   f \\in [(2n-1)f_c, 2f_c] \\rightarrow f' = 2nf_c - f\n",
        "   $$\n",
        "   $$\n",
        "   f \\in [2f_c, (2n+1)f_c] \\rightarrow f' = f - 2nf_c\n",
        "   $$\n",
        "  where $f_c$ is the cutoff frequency, $f'$ is the resulting shifted frequency and $n = 1,2,3... $<br>\n",
        "  so the shifted frequencies became<br>\n",
        "  $$\n",
        "  110 kHz \\in [1f_c,2f_c] \\rightarrow f' = 2 \\times 100kHz - 110kHz = 90 kHz\\\\\n",
        "  190 kHz \\in [1f_c,2f_c] \\rightarrow f' = 2 \\times 100kHz - 190kHz = 10 kHz\\\\\n",
        "  210 kHz \\in [2f_c,3f_c] \\rightarrow f' = 210kHz - 2 \\times 100kHz = 10 kHz\\\\\n",
        "  210 kHz \\in [2f_c,3f_c] \\rightarrow f' = 290kHz - 2 \\times 100kHz = 90 kHz\\\\\n",
        "  $$"
      ],
      "metadata": {
        "id": "gumnsc3C8Hja"
      }
    },
    {
      "cell_type": "code",
      "source": [
        "# creating arrays\n",
        "a2a_10kHz_scope_time = np.array(a2a_10kHz_scope['Time'])[1:].astype(float)\n",
        "a2a_10kHz_scope_voltage = np.array(a2a_10kHz_scope['Channel A'])[1:].astype(float)\n",
        "a2a_10kHz_spec_freq = np.array(a2a_10kHz_spec['Frequency'])[1:].astype(float)\n",
        "a2a_10kHz_spec_voltage = np.array(a2a_10kHz_spec['Channel A'])[1:].astype(float)\n",
        "\n",
        "a2a_90kHz_scope_time = np.array(a2a_90kHz_scope['Time'])[1:].astype(float)\n",
        "a2a_90kHz_scope_voltage = np.array(a2a_90kHz_scope['Channel A'])[1:].astype(float)\n",
        "a2a_90kHz_spec_freq = np.array(a2a_90kHz_spec['Frequency'])[1:].astype(float)\n",
        "a2a_90kHz_spec_voltage = np.array(a2a_90kHz_spec['Channel A'])[1:].astype(float)\n",
        "\n",
        "a2a_110kHz_scope_time = np.array(a2a_110kHz_scope['Time'])[1:].astype(float)\n",
        "a2a_110kHz_scope_voltage = np.array(a2a_110kHz_scope['Channel A'])[1:].astype(float)\n",
        "a2a_110kHz_spec_freq = np.array(a2a_110kHz_spec['Frequency'])[1:].astype(float)\n",
        "a2a_110kHz_spec_voltage = np.array(a2a_110kHz_spec['Channel A'])[1:].astype(float)\n",
        "\n",
        "a2a_190kHz_scope_time = np.array(a2a_190kHz_scope['Time'])[1:].astype(float)\n",
        "a2a_190kHz_scope_voltage = np.array(a2a_190kHz_scope['Channel A'])[1:].astype(float)\n",
        "a2a_190kHz_spec_freq = np.array(a2a_190kHz_spec['Frequency'])[1:].astype(float)\n",
        "a2a_190kHz_spec_voltage = np.array(a2a_190kHz_spec['Channel A'])[1:].astype(float)\n",
        "\n",
        "a2a_210kHz_scope_time = np.array(a2a_210kHz_scope['Time'])[1:].astype(float)\n",
        "a2a_210kHz_scope_voltage = np.array(a2a_210kHz_scope['Channel A'])[1:].astype(float)\n",
        "a2a_210kHz_spec_freq = np.array(a2a_210kHz_spec['Frequency'])[1:].astype(float)\n",
        "a2a_210kHz_spec_voltage = np.array(a2a_210kHz_spec['Channel A'])[1:].astype(float)\n",
        "\n",
        "a2a_290kHz_scope_time = np.array(a2a_290kHz_scope['Time'])[1:].astype(float)\n",
        "a2a_290kHz_scope_voltage = np.array(a2a_290kHz_scope['Channel A'])[1:].astype(float)\n",
        "a2a_290kHz_spec_freq = np.array(a2a_290kHz_spec['Frequency'])[1:].astype(float)\n",
        "a2a_290kHz_spec_voltage = np.array(a2a_290kHz_spec['Channel A'])[1:].astype(float)"
      ],
      "metadata": {
        "id": "IYM8kgZmNAWA"
      },
      "execution_count": null,
      "outputs": []
    },
    {
      "cell_type": "code",
      "source": [
        "# look for position of peaks and its value\n",
        "max_index_10kHz = np.argmax(a2a_10kHz_spec_voltage)\n",
        "max_pos_10kHz = a2a_10kHz_spec_freq[max_index_10kHz]\n",
        "\n",
        "max_index_90kHz = np.argmax(a2a_90kHz_spec_voltage)\n",
        "max_pos_90kHz = a2a_90kHz_spec_freq[max_index_90kHz]\n",
        "\n",
        "max_index_110kHz = np.argmax(a2a_110kHz_spec_voltage)\n",
        "max_pos_110kHz = a2a_110kHz_spec_freq[max_index_110kHz]\n",
        "\n",
        "max_index_190kHz = np.argmax(a2a_190kHz_spec_voltage)\n",
        "max_pos_190kHz = a2a_190kHz_spec_freq[max_index_190kHz]\n",
        "\n",
        "max_index_210kHz = np.argmax(a2a_210kHz_spec_voltage)\n",
        "max_pos_210kHz = a2a_210kHz_spec_freq[max_index_210kHz]\n",
        "\n",
        "max_index_290kHz = np.argmax(a2a_290kHz_spec_voltage)\n",
        "max_pos_290kHz = a2a_290kHz_spec_freq[max_index_290kHz]"
      ],
      "metadata": {
        "id": "ZGM4kiGTGaO7"
      },
      "execution_count": null,
      "outputs": []
    },
    {
      "cell_type": "code",
      "source": [
        "# look for amplitudes\n",
        "amp_index_10kHz = np.argmax(a2a_10kHz_scope_voltage)\n",
        "amp_pos_10kHz = a2a_10kHz_scope_time[amp_index_10kHz]\n",
        "\n",
        "amp_index_90kHz = np.argmax(a2a_90kHz_scope_voltage)\n",
        "amp_pos_90kHz = a2a_90kHz_scope_time[amp_index_90kHz]\n",
        "\n",
        "amp_index_110kHz = np.argmax(a2a_110kHz_scope_voltage)\n",
        "amp_pos_110kHz = a2a_110kHz_scope_time[amp_index_110kHz]\n",
        "\n",
        "amp_index_190kHz = np.argmax(a2a_190kHz_scope_voltage)\n",
        "amp_pos_190kHz = a2a_190kHz_scope_time[amp_index_190kHz]\n",
        "\n",
        "amp_index_210kHz = np.argmax(a2a_210kHz_scope_voltage)\n",
        "amp_pos_210kHz = a2a_210kHz_scope_time[amp_index_210kHz]\n",
        "\n",
        "amp_index_290kHz = np.argmax(a2a_290kHz_scope_voltage)\n",
        "amp_pos_290kHz = a2a_290kHz_scope_time[amp_index_290kHz]"
      ],
      "metadata": {
        "id": "roVmtEGG_ajb"
      },
      "execution_count": null,
      "outputs": []
    },
    {
      "cell_type": "code",
      "source": [
        "def sinewave(t,f,A,phi):\n",
        "  return A*np.sin(2*np.pi*f*t + phi)"
      ],
      "metadata": {
        "id": "WGEjxjOQ731d"
      },
      "execution_count": null,
      "outputs": []
    },
    {
      "cell_type": "code",
      "source": [
        "t = np.linspace(-0.1,0.1,10000)"
      ],
      "metadata": {
        "id": "j3Umvdsk8Osm"
      },
      "execution_count": null,
      "outputs": []
    },
    {
      "cell_type": "code",
      "source": [
        "popt10, pcov10 = curve_fit(sinewave, a2a_10kHz_scope_time, a2a_10kHz_scope_voltage, p0 = [10,1,0.3])\n",
        "fit_10kHz = sinewave(t, 10, a2a_10kHz_scope_voltage[amp_index_10kHz], popt10[2])\n",
        "\n",
        "popt90, pcov90 = curve_fit(sinewave, a2a_90kHz_scope_time, a2a_90kHz_scope_voltage, p0 = [90,1,0.3])\n",
        "fit_90kHz = sinewave(t, popt90[0], a2a_90kHz_scope_voltage[amp_index_90kHz], popt90[2])\n",
        "\n",
        "popt110, pcov110 = curve_fit(sinewave, a2a_110kHz_scope_time, a2a_110kHz_scope_voltage, p0 = [110,1,-0.3])\n",
        "popt110s, pcov110s = curve_fit(sinewave, a2a_110kHz_scope_time, a2a_110kHz_scope_voltage, p0 = [90,1,-0.3])\n",
        "fit_110kHz = sinewave(t, 110, a2a_110kHz_scope_voltage[amp_index_110kHz], popt110[2])\n",
        "shifted_110kHz = sinewave(t, 90, a2a_110kHz_scope_voltage[amp_index_110kHz], popt110s[2])\n",
        "\n",
        "popt190, pcov190 = curve_fit(sinewave, a2a_190kHz_scope_time, a2a_190kHz_scope_voltage, p0 = [190,1,0.3])\n",
        "popt190s, pcov190s = curve_fit(sinewave, a2a_190kHz_scope_time, a2a_190kHz_scope_voltage, p0 = [10,1,0.3])\n",
        "fit_190kHz = sinewave(t, 190, a2a_190kHz_scope_voltage[amp_index_190kHz], popt190[2])\n",
        "shifted_190kHz = sinewave(t, 10, a2a_190kHz_scope_voltage[amp_index_190kHz], popt190s[2])\n",
        "\n",
        "popt210, pcov210 = curve_fit(sinewave, a2a_210kHz_scope_time, a2a_210kHz_scope_voltage, p0 = [210,1,0.3])\n",
        "popt210s, pcov210 = curve_fit(sinewave, a2a_210kHz_scope_time, a2a_210kHz_scope_voltage, p0 = [10,1,0.3])\n",
        "fit_210kHz = sinewave(t, 210, a2a_210kHz_scope_voltage[amp_index_210kHz], popt210[2])\n",
        "shifted_210kHz = sinewave(t, 10, a2a_210kHz_scope_voltage[amp_index_210kHz], popt210s[2])\n",
        "\n",
        "popt290, pcov290 = curve_fit(sinewave, a2a_290kHz_scope_time, a2a_290kHz_scope_voltage, p0 = [290,1,-2])\n",
        "popt290s, pcov290s = curve_fit(sinewave, a2a_290kHz_scope_time, a2a_290kHz_scope_voltage, p0 = [90,1,0.3])\n",
        "fit_290kHz = sinewave(t, 290, a2a_290kHz_scope_voltage[amp_index_290kHz], popt290[2])\n",
        "shifted_290kHz = sinewave(t, 90, a2a_290kHz_scope_voltage[amp_index_290kHz], popt290s[2])"
      ],
      "metadata": {
        "id": "scqGEdJ28ry5"
      },
      "execution_count": null,
      "outputs": []
    },
    {
      "cell_type": "code",
      "source": [
        "# 10 kHz\n",
        "plt.figure(figsize = (15,5))\n",
        "\n",
        "plt.subplot(1, 2, 1)\n",
        "plt.scatter(a2a_10kHz_scope_time, a2a_10kHz_scope_voltage, label = 'data')\n",
        "plt.plot(t, fit_10kHz, label = 'original signal')\n",
        "plt.xlim([-0.05,0.05])\n",
        "plt.xlabel('Time (ms)')\n",
        "plt.ylabel('Voltage (V)')\n",
        "plt.title('f = 10 kHz')\n",
        "plt.legend()\n",
        "\n",
        "plt.subplot(1, 2, 2)\n",
        "plt.scatter(a2a_10kHz_spec_freq, a2a_10kHz_spec_voltage, s = 5)\n",
        "plt.xlim([0,100])\n",
        "plt.xlabel('Frequency (kHz)')\n",
        "plt.ylabel('Voltage (dBV)')\n",
        "plt.title('dBV scale, Blackman window')\n",
        "plt.suptitle('Pure sine wave, 14 bits')\n",
        "plt.axvline(max_pos_10kHz, ls = '--', color = 'gray', zorder = -1, label = '10 kHz')\n",
        "\n",
        "plt.legend()\n",
        "plt.savefig('2a_10kHz.png')\n",
        "plt.close()"
      ],
      "metadata": {
        "id": "_gghfdxgC_pW"
      },
      "execution_count": null,
      "outputs": []
    },
    {
      "cell_type": "code",
      "source": [
        "# 90 kHz\n",
        "plt.figure(figsize = (15,5))\n",
        "\n",
        "plt.subplot(1, 2, 1)\n",
        "plt.scatter(a2a_90kHz_scope_time, a2a_90kHz_scope_voltage, label = 'data')\n",
        "plt.plot(t, fit_90kHz, label = 'original signal')\n",
        "plt.xlim([-0.05,0.05])\n",
        "plt.xlabel('Time (ms)')\n",
        "plt.ylabel('Voltage (V)')\n",
        "plt.title('f = 90 kHz')\n",
        "plt.legend(loc = 'upper right')\n",
        "\n",
        "plt.subplot(1, 2, 2)\n",
        "plt.scatter(a2a_90kHz_spec_freq, a2a_90kHz_spec_voltage, s = 5)\n",
        "plt.xlim([0,100])\n",
        "plt.xlabel('Frequency (kHz)')\n",
        "plt.ylabel('Voltage (dBV)')\n",
        "plt.title('dBV scale, Blackman window')\n",
        "plt.suptitle('Pure sine wave, 14 bits')\n",
        "plt.axvline(max_pos_90kHz, ls = '--', color = 'gray', zorder = -1, label = '90 kHz')\n",
        "\n",
        "plt.legend()\n",
        "plt.savefig('2a_90kHz.png')\n",
        "plt.close()"
      ],
      "metadata": {
        "id": "PzqiZVQh18Mh"
      },
      "execution_count": null,
      "outputs": []
    },
    {
      "cell_type": "code",
      "source": [
        "# 110 kHz\n",
        "plt.figure(figsize = (15,5))\n",
        "\n",
        "plt.subplot(1, 2, 1)\n",
        "plt.scatter(a2a_110kHz_scope_time, a2a_110kHz_scope_voltage, label = 'data')\n",
        "plt.plot(t, fit_110kHz, label = 'original signal')\n",
        "plt.plot(t, shifted_110kHz, label = 'shifted signal', ls = '--', zorder = -1)\n",
        "plt.xlim([-0.05,0.05])\n",
        "plt.xlabel('Time (ms)')\n",
        "plt.ylabel('Voltage (V)')\n",
        "plt.title('f = 110 kHz')\n",
        "plt.legend(loc = 'upper right')\n",
        "\n",
        "plt.subplot(1, 2, 2)\n",
        "plt.scatter(a2a_110kHz_spec_freq, a2a_110kHz_spec_voltage, s = 5)\n",
        "plt.xlim([0,100])\n",
        "plt.xlabel('Frequency (kHz)')\n",
        "plt.ylabel('Voltage (dBV)')\n",
        "plt.title('dBV scale, Blackman window')\n",
        "plt.suptitle('Pure sine wave, 14 bits')\n",
        "plt.axvline(max_pos_110kHz, ls = '--', color = 'gray', zorder = -1, label = '90 kHz')\n",
        "\n",
        "plt.legend()\n",
        "plt.savefig('2a_110kHz.png')\n",
        "plt.close()"
      ],
      "metadata": {
        "id": "qKxHvDtw68Ni"
      },
      "execution_count": null,
      "outputs": []
    },
    {
      "cell_type": "code",
      "source": [
        "# 190 kHz\n",
        "plt.figure(figsize = (15,5))\n",
        "\n",
        "plt.subplot(1, 2, 1)\n",
        "plt.scatter(a2a_190kHz_scope_time, a2a_190kHz_scope_voltage, label = 'data')\n",
        "plt.plot(t, fit_190kHz, label = 'original signal')\n",
        "plt.plot(t, shifted_190kHz, label = 'shifted signal', ls = '--', zorder = -1)\n",
        "plt.xlim([-0.05,0.05])\n",
        "plt.xlabel('Time (ms)')\n",
        "plt.ylabel('Voltage (V)')\n",
        "plt.title('f = 190 kHz')\n",
        "plt.legend(loc = 'upper right')\n",
        "\n",
        "plt.subplot(1, 2, 2)\n",
        "plt.scatter(a2a_190kHz_spec_freq, a2a_190kHz_spec_voltage, s = 5)\n",
        "plt.xlim([0,100])\n",
        "plt.xlabel('Frequency (kHz)')\n",
        "plt.ylabel('Voltage (dBV)')\n",
        "plt.title('dBV scale, Blackman window')\n",
        "plt.suptitle('Pure sine wave, 14 bits')\n",
        "plt.axvline(max_pos_190kHz, ls = '--', color = 'gray', zorder = -1, label = '10 kHz')\n",
        "\n",
        "plt.legend()\n",
        "plt.savefig('2a_190kHz.png')\n",
        "plt.close()"
      ],
      "metadata": {
        "id": "28mjaqqpArG9"
      },
      "execution_count": null,
      "outputs": []
    },
    {
      "cell_type": "code",
      "source": [
        "# 210 kHz\n",
        "plt.figure(figsize = (15,5))\n",
        "\n",
        "plt.subplot(1, 2, 1)\n",
        "plt.scatter(a2a_210kHz_scope_time, a2a_210kHz_scope_voltage, label = 'data')\n",
        "plt.plot(t, fit_210kHz, label = 'original signal')\n",
        "plt.plot(t, shifted_210kHz, label = 'shifted signal', ls = '--', zorder = -1)\n",
        "plt.xlim([-0.05,0.05])\n",
        "plt.xlabel('Time (ms)')\n",
        "plt.ylabel('Voltage (V)')\n",
        "plt.title('f = 210 kHz')\n",
        "plt.legend(loc = 'upper right')\n",
        "\n",
        "plt.subplot(1, 2, 2)\n",
        "plt.scatter(a2a_210kHz_spec_freq, a2a_210kHz_spec_voltage, s = 5)\n",
        "plt.xlim([0,100])\n",
        "plt.xlabel('Frequency (kHz)')\n",
        "plt.ylabel('Voltage (dBV)')\n",
        "plt.title('dBV scale, Blackman window')\n",
        "plt.suptitle('Pure sine wave, 14 bits')\n",
        "plt.axvline(max_pos_210kHz, ls = '--', color = 'gray', zorder = -1, label = '10 kHz')\n",
        "\n",
        "plt.legend()\n",
        "plt.savefig('2a_210kHz.png')\n",
        "plt.close()"
      ],
      "metadata": {
        "id": "fs2W1AtYDfWD"
      },
      "execution_count": null,
      "outputs": []
    },
    {
      "cell_type": "code",
      "source": [
        "# 290 kHz\n",
        "plt.figure(figsize = (15,5))\n",
        "\n",
        "plt.subplot(1, 2, 1)\n",
        "plt.scatter(a2a_290kHz_scope_time, a2a_290kHz_scope_voltage, label = 'data')\n",
        "plt.plot(t, fit_290kHz, label = 'original signal')\n",
        "plt.plot(t, shifted_290kHz, label = 'shifted signal', ls = '--', zorder = -1)\n",
        "plt.xlim([-0.05,0.05])\n",
        "plt.xlabel('Time (ms)')\n",
        "plt.ylabel('Voltage (V)')\n",
        "plt.title('f = 290 kHz')\n",
        "plt.legend(loc = 'upper right')\n",
        "\n",
        "plt.subplot(1, 2, 2)\n",
        "plt.scatter(a2a_290kHz_spec_freq, a2a_290kHz_spec_voltage, s = 5)\n",
        "plt.xlim([0,100])\n",
        "plt.xlabel('Frequency (kHz)')\n",
        "plt.ylabel('Voltage (dBV)')\n",
        "plt.title('dBV scale, Blackman window')\n",
        "plt.suptitle('Pure sine wave, 14 bits')\n",
        "plt.axvline(max_pos_290kHz, ls = '--', color = 'gray', zorder = -1, label = '90 kHz')\n",
        "\n",
        "plt.legend()\n",
        "plt.savefig('2a_290kHz.png')\n",
        "plt.close()"
      ],
      "metadata": {
        "id": "JDYOwPGfEU8X"
      },
      "execution_count": null,
      "outputs": []
    },
    {
      "cell_type": "markdown",
      "source": [
        "b) Using the same parameters (cutoff  frequency $f_c = $100 kHz, Blackman window and 16384 points) we measured the spectrum of two different square signals, one of 5 kHz and one of 7 kHz.\n",
        "\n",
        "The Fourier series of a square wave is\n",
        "$$\n",
        "x(t)=sgn(sin(2\\pi ft)) = \\frac{4}{\\pi} \\sum_{n=0}^\\infty \\frac{1}{2n-1} sin(\\frac{(2n-1) 2\\pi ft}{L})\n",
        "$$\n",
        "\n",
        "so it only contains odd harmonics with amplitudes that are decreasing as $\\frac{1}{2n-1}$.\n",
        "The spectra for the two frequencies look very different, because we have a cut-off frequency of 100 kHz, which means that the higher order harmonics get shifted on the frequency spectrum. For the 5 kHz signal we see exactly 10 peaks, because the cut-off frequency is an even multiple of the fundamental frequency, so shifted higher order frequencies will always overlay with the first 10 peaks. We have as many peaks, as many odd multiples of the fundamental frequency we have under the cut-off frequency:\n",
        "$$\n",
        "10 = \\frac{1}{2} \\frac{100 kHz}{5 kHz}\n",
        "$$\n",
        "\n",
        "So we see the peaks at 5, 15, 25, 35, 45, 55, 65, 75, 85 and 95 (kHz). The amplitude of the peaks fall proportional to $\\frac{1}{2n-1}$, as expected (used for the fitting function).\n",
        "\n",
        "\\\\\n",
        "For the 7 kHz signal however, frequencies higher than the cut-off frequency $f_c$ get shifted by different amounts dsepending on which interval they fall in, their least common multiple being 700, we get 7 different sets of shifted peaks. The heights of the peaks decrease proportional to $\\frac{1}{n}$. So we find peaks at odd multiples of the fundamental frequency of 7 kHz and at their shifted equivalents, which we obtain using the same formula as before in task 2a). Using the above formula backward, we backshifted the amplitudes to the actual frequency they correspond to, so we can fit the suitable amplitude function to them. We found that the peak heights also fall off proportional to $\\frac{1}{2n-1}$.\n",
        "\n",
        "For the fits we converted the amplitudes to dBV units to be easier to compare with the data."
      ],
      "metadata": {
        "id": "i8is363yK08V"
      }
    },
    {
      "cell_type": "code",
      "source": [
        "freq_comp_7 = np.arange(7,400,14)\n",
        "ns = np.arange(1,51,1)\n",
        "freq_ampl_7 = 4/(np.pi*(2*ns - 1))"
      ],
      "metadata": {
        "id": "6DroIk-emo6X"
      },
      "execution_count": null,
      "outputs": []
    },
    {
      "cell_type": "code",
      "source": [
        "b2b_shifts_7kHz = pd.read_csv('https://raw.githubusercontent.com/kundiilona/GP2/main/2b_shifts.csv').iloc[:,0:2]\n",
        "b2b_shifts_7kHz['Amplitude'] = freq_ampl_7\n",
        "b2b_shifts_7kHz_sorted = b2b_shifts_7kHz.sort_values('Shifted frequency (kHz)')\n",
        "b2b_shifts_7kHz_sorted_cut = b2b_shifts_7kHz_sorted.iloc[:21,:]\n",
        "b2b_shifts_7kHz_real = b2b_shifts_7kHz_sorted['Frequency component (kHz)']\n",
        "b2b_shifts_7kHz_shift = b2b_shifts_7kHz_sorted['Shifted frequency (kHz)']\n",
        "b2b_shifts_7kHz_amp = b2b_shifts_7kHz_sorted['Amplitude']\n",
        "\n",
        "b2b_shifts_7kHz_real_cut = b2b_shifts_7kHz_sorted_cut['Frequency component (kHz)']\n",
        "b2b_shifts_7kHz_shift_cut = b2b_shifts_7kHz_sorted_cut['Shifted frequency (kHz)']\n",
        "b2b_shifts_7kHz_amp_cut = b2b_shifts_7kHz_sorted_cut['Amplitude']"
      ],
      "metadata": {
        "id": "Ge9zXb1pitVm"
      },
      "execution_count": null,
      "outputs": []
    },
    {
      "cell_type": "code",
      "source": [
        "b2b_shifts_7kHz_sorted_indices = np.array([28,14,42,0,43,13,29,27,15,41,1,44,12,30,26,16,40,2,45,11,31])+1\n",
        "b2b_shifts_7kHz_sorted_indices"
      ],
      "metadata": {
        "colab": {
          "base_uri": "https://localhost:8080/"
        },
        "id": "HJUH5XSsEI3B",
        "outputId": "579db80b-629c-4676-dbef-53c3ab7701e4"
      },
      "execution_count": null,
      "outputs": [
        {
          "output_type": "execute_result",
          "data": {
            "text/plain": [
              "array([29, 15, 43,  1, 44, 14, 30, 28, 16, 42,  2, 45, 13, 31, 27, 17, 41,\n",
              "        3, 46, 12, 32])"
            ]
          },
          "metadata": {},
          "execution_count": 31
        }
      ]
    },
    {
      "cell_type": "code",
      "source": [
        "# creating arrays\n",
        "b2b_5kHz_scope_time = np.array(b2b_5kHz_scope['Time'])[1:].astype(float)\n",
        "b2b_5kHz_scope_voltage = np.array(b2b_5kHz_scope['Channel A'])[1:].astype(float)\n",
        "b2b_5kHz_spec_freq = np.array(b2b_5kHz_spec['Frequency'])[1:].astype(float)\n",
        "b2b_5kHz_spec_voltage = np.array(b2b_5kHz_spec['Channel A'])[1:].astype(float)\n",
        "\n",
        "b2b_7kHz_scope_time = np.array(b2b_7kHz_scope['Time'])[1:].astype(float)\n",
        "b2b_7kHz_scope_voltage = np.array(b2b_7kHz_scope['Channel A'])[1:].astype(float)\n",
        "b2b_7kHz_spec_freq = np.array(b2b_7kHz_spec['Frequency'])[1:].astype(float)\n",
        "b2b_7kHz_spec_voltage = np.array(b2b_7kHz_spec['Channel A'])[1:].astype(float)"
      ],
      "metadata": {
        "id": "dtAXwJAmEtDY"
      },
      "execution_count": null,
      "outputs": []
    },
    {
      "cell_type": "code",
      "source": [
        "peaks_5kHz_loc, peaks_5kHz_height = sp.signal.find_peaks(b2b_5kHz_spec_voltage, height = -30, distance = 4)\n",
        "peaks_7kHz_loc, peaks_7kHz_height = sp.signal.find_peaks(b2b_7kHz_spec_voltage, height = -50, distance = 3)\n",
        "peaks_7kHz_freq = np.round(b2b_5kHz_spec_freq[peaks_7kHz_loc],0).astype(int)\n",
        "peaks_7kHz_freq[0:20]"
      ],
      "metadata": {
        "colab": {
          "base_uri": "https://localhost:8080/"
        },
        "id": "7-jIjvM3PE1u",
        "outputId": "9bd26b2f-4c99-4431-fe1a-127f882501f6"
      },
      "execution_count": null,
      "outputs": [
        {
          "output_type": "execute_result",
          "data": {
            "text/plain": [
              "array([ 1,  3,  5,  7,  9, 11, 13, 15, 17, 19, 21, 23, 25, 27, 29, 31, 33,\n",
              "       35, 37, 39])"
            ]
          },
          "metadata": {},
          "execution_count": 33
        }
      ]
    },
    {
      "cell_type": "code",
      "source": [
        "# 5 kHz\n",
        "plt.figure(figsize = (15,5))\n",
        "\n",
        "plt.subplot(1, 2, 1)\n",
        "plt.plot(b2b_5kHz_scope_time, b2b_5kHz_scope_voltage, label = 'signal')\n",
        "plt.xlim([-0.5,0.5])\n",
        "plt.xlabel('Time (ms)')\n",
        "plt.ylabel('Voltage (V)')\n",
        "plt.title('f = 5 kHz')\n",
        "plt.legend(loc = 'upper right')\n",
        "\n",
        "plt.subplot(1, 2, 2)\n",
        "plt.scatter(b2b_5kHz_spec_freq, b2b_5kHz_spec_voltage, s = 5)\n",
        "plt.xlim([0,100])\n",
        "plt.xlabel('Frequency (kHz)')\n",
        "plt.ylabel('Voltage (dBV)')\n",
        "plt.title('Spectrum (Blackman window)')\n",
        "plt.suptitle('Square signal, 14 bits')\n",
        "#plt.axvline(b2b_5kHz_spec_freq[2048], ls = '--', color = 'gray', zorder = -1, label = '90 kHz')\n",
        "\n",
        "plt.savefig('2b_5kHz.png')\n",
        "plt.close()"
      ],
      "metadata": {
        "id": "6LpP21YhLug3"
      },
      "execution_count": null,
      "outputs": []
    },
    {
      "cell_type": "code",
      "source": [
        "def amp(n,a,A):\n",
        "  return A*np.log(1/(2*n - 1)) + a"
      ],
      "metadata": {
        "id": "iiKKmMcr5Vbl"
      },
      "execution_count": null,
      "outputs": []
    },
    {
      "cell_type": "code",
      "source": [
        "x = np.arange(1,11,1)\n",
        "y = peaks_5kHz_height['peak_heights']"
      ],
      "metadata": {
        "id": "fjwaYgEi526v"
      },
      "execution_count": null,
      "outputs": []
    },
    {
      "cell_type": "code",
      "source": [
        "popt5, pcov5 = curve_fit(amp, x, y, p0 = [-10,10])\n",
        "ba = np.linspace(1,10,10000)\n",
        "see = amp(ba,popt5[0], popt5[1])"
      ],
      "metadata": {
        "id": "IUTgzy8B6-42"
      },
      "execution_count": null,
      "outputs": []
    },
    {
      "cell_type": "code",
      "source": [
        "x2 = b2b_shifts_7kHz_sorted_indices[:20]\n",
        "y2 = peaks_7kHz_height['peak_heights'][0:20]"
      ],
      "metadata": {
        "id": "jb8AyYM399Si"
      },
      "execution_count": null,
      "outputs": []
    },
    {
      "cell_type": "code",
      "source": [
        "popt7, pcov7 = curve_fit(amp, x2, y2, p0 = [-10,10])\n",
        "baa = np.linspace(1,700,10000)\n",
        "n = np.arange(1,51,1)\n",
        "see2 = amp(n, popt7[0], popt7[1])\n",
        "sh = (2*n-1)*7"
      ],
      "metadata": {
        "id": "qEnIO51D_iFq"
      },
      "execution_count": null,
      "outputs": []
    },
    {
      "cell_type": "code",
      "source": [
        "# 7 kHz\n",
        "plt.figure(figsize = (15,5))\n",
        "\n",
        "plt.subplot(1, 2, 1)\n",
        "plt.plot(b2b_7kHz_scope_time, b2b_7kHz_scope_voltage, label = 'signal')\n",
        "plt.xlim([-0.5,0.5])\n",
        "plt.xlabel('Time (ms)')\n",
        "plt.ylabel('Voltage (V)')\n",
        "plt.title('f = 7 kHz')\n",
        "plt.legend(loc = 'upper right')\n",
        "\n",
        "plt.subplot(1, 2, 2)\n",
        "plt.scatter(b2b_7kHz_spec_freq, b2b_7kHz_spec_voltage, s = 5)\n",
        "plt.xlim([0,100])\n",
        "plt.xlabel('Frequency (kHz)')\n",
        "plt.ylabel('Voltage (dBV)')\n",
        "plt.title('Spectrum (Blackman window)')\n",
        "plt.suptitle('Square signal, 14 bits')\n",
        "\n",
        "plt.savefig('2b_7kHz.png')\n",
        "plt.close()"
      ],
      "metadata": {
        "id": "dGtokmedMKng"
      },
      "execution_count": null,
      "outputs": []
    },
    {
      "cell_type": "code",
      "source": [
        "ez = 23*np.log(b2b_shifts_7kHz_amp_cut)/np.pi-10"
      ],
      "metadata": {
        "id": "pkP1UJJLNL8t"
      },
      "execution_count": null,
      "outputs": []
    },
    {
      "cell_type": "code",
      "source": [
        "# peaks\n",
        "plt.figure(figsize = (15,5))\n",
        "plt.suptitle('Peak heights vs. Frequency for square wave \\n ')\n",
        "\n",
        "plt.subplot(1, 2, 1)\n",
        "plt.scatter(b2b_5kHz_spec_freq[peaks_5kHz_loc], peaks_5kHz_height['peak_heights'], label = 'data')\n",
        "plt.plot((2*ba-1)*5, see, label = 'fit')\n",
        "plt.legend()\n",
        "plt.xlabel('Frequency (kHz)')\n",
        "plt.ylabel('Amplitude (dBV)')\n",
        "plt.title(' \\n f = 5 kHz \\n (first 10 peaks)')\n",
        "plt.legend(loc = 'upper right')\n",
        "\n",
        "plt.subplot(1, 2, 2)\n",
        "plt.scatter(b2b_shifts_7kHz_real_cut[:20], y2, label = 'data')\n",
        "plt.plot((2*n-1)*7, see2, label = 'fit')\n",
        "plt.title(' \\n f = 7 kHz \\n (first 20 peaks, frequencies back-shifted)')\n",
        "plt.xlabel('Frequency (kHz)')\n",
        "plt.ylabel('Peak height (dBV)')\n",
        "plt.legend()\n",
        "\n",
        "plt.savefig('2b_amps.png')\n",
        "plt.close()"
      ],
      "metadata": {
        "id": "7FLWuUVXNbMH"
      },
      "execution_count": null,
      "outputs": []
    }
  ]
}
