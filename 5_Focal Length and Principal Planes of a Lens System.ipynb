{
  "nbformat": 4,
  "nbformat_minor": 0,
  "metadata": {
    "colab": {
      "provenance": []
    },
    "kernelspec": {
      "name": "python3",
      "display_name": "Python 3"
    },
    "language_info": {
      "name": "python"
    }
  },
  "cells": [
    {
      "cell_type": "code",
      "execution_count": null,
      "metadata": {
        "id": "S2WPA7wKWiaD"
      },
      "outputs": [],
      "source": [
        "# importing modules\n",
        "import numpy as np\n",
        "import pandas as pd\n",
        "import seaborn as sns\n",
        "import scipy as sp\n",
        "import matplotlib.pyplot as plt\n",
        "\n",
        "from scipy import stats\n",
        "from scipy import optimize\n",
        "from scipy.optimize import curve_fit\n",
        "from scipy import fftpack\n",
        "from scipy.integrate import cumulative_trapezoid"
      ]
    },
    {
      "cell_type": "code",
      "source": [
        "Task1 = pd.read_csv('https://raw.githubusercontent.com/anasroumeih/Lab2/main/O4e%20-%20Task%201.csv')\n",
        "Task2 = pd.read_csv('https://raw.githubusercontent.com/anasroumeih/Lab2/main/O4e%20-%20Task%202.csv')\n",
        "d_G = 40 #mm, light source correction\n",
        "d_B = 30 #mm, eye_piece correction\n",
        "d_L = 272 #mm, distance between lenses"
      ],
      "metadata": {
        "id": "PsWgL07CWrfY"
      },
      "execution_count": null,
      "outputs": []
    },
    {
      "cell_type": "code",
      "source": [
        "Task1"
      ],
      "metadata": {
        "colab": {
          "base_uri": "https://localhost:8080/",
          "height": 410
        },
        "id": "wg-2E6IkXmZS",
        "outputId": "51024bf0-7a99-4995-9111-fc54801d3018"
      },
      "execution_count": null,
      "outputs": [
        {
          "output_type": "execute_result",
          "data": {
            "text/plain": [
              "   Object height (mm)  Image height (mm)  Middle point distance (mm)  \\\n",
              "0                 1.0               2.96                         333   \n",
              "1                 1.0               3.67                         320   \n",
              "2                 1.0               4.43                         310   \n",
              "3                 1.0               5.41                         300   \n",
              "4                 0.7               5.00                         290   \n",
              "5                 1.0               2.68                         340   \n",
              "6                 1.0               2.41                         345   \n",
              "7                 1.0               2.24                         339   \n",
              "8                 1.0               3.27                         327   \n",
              "\n",
              "   Total length (mm)  Shift (mm)  Arbeitsplatz III  Magnification (mm)  \\\n",
              "0              623.0        50.0               NaN            2.960000   \n",
              "1              748.5         NaN               NaN            3.670000   \n",
              "2              903.0         NaN               NaN            4.430000   \n",
              "3             1123.0         NaN               NaN            5.410000   \n",
              "4             1530.5         NaN               NaN            7.142857   \n",
              "5              568.0         NaN               NaN            2.680000   \n",
              "6              541.0         NaN               NaN            2.410000   \n",
              "7              580.0         NaN               NaN            2.240000   \n",
              "8              676.0         NaN               NaN            3.270000   \n",
              "\n",
              "   Distance between lenses    d1    d2  \n",
              "0                     27.1  14.0  13.2  \n",
              "1                      NaN   NaN   NaN  \n",
              "2                      NaN   NaN   NaN  \n",
              "3                      NaN   NaN   NaN  \n",
              "4                      NaN   NaN   NaN  \n",
              "5                      NaN   NaN   NaN  \n",
              "6                      NaN   NaN   NaN  \n",
              "7                      NaN   NaN   NaN  \n",
              "8                      NaN   NaN   NaN  "
            ],
            "text/html": [
              "\n",
              "  <div id=\"df-0a016685-14d8-44e2-aba7-962685e6c1d5\">\n",
              "    <div class=\"colab-df-container\">\n",
              "      <div>\n",
              "<style scoped>\n",
              "    .dataframe tbody tr th:only-of-type {\n",
              "        vertical-align: middle;\n",
              "    }\n",
              "\n",
              "    .dataframe tbody tr th {\n",
              "        vertical-align: top;\n",
              "    }\n",
              "\n",
              "    .dataframe thead th {\n",
              "        text-align: right;\n",
              "    }\n",
              "</style>\n",
              "<table border=\"1\" class=\"dataframe\">\n",
              "  <thead>\n",
              "    <tr style=\"text-align: right;\">\n",
              "      <th></th>\n",
              "      <th>Object height (mm)</th>\n",
              "      <th>Image height (mm)</th>\n",
              "      <th>Middle point distance (mm)</th>\n",
              "      <th>Total length (mm)</th>\n",
              "      <th>Shift (mm)</th>\n",
              "      <th>Arbeitsplatz III</th>\n",
              "      <th>Magnification (mm)</th>\n",
              "      <th>Distance between lenses</th>\n",
              "      <th>d1</th>\n",
              "      <th>d2</th>\n",
              "    </tr>\n",
              "  </thead>\n",
              "  <tbody>\n",
              "    <tr>\n",
              "      <th>0</th>\n",
              "      <td>1.0</td>\n",
              "      <td>2.96</td>\n",
              "      <td>333</td>\n",
              "      <td>623.0</td>\n",
              "      <td>50.0</td>\n",
              "      <td>NaN</td>\n",
              "      <td>2.960000</td>\n",
              "      <td>27.1</td>\n",
              "      <td>14.0</td>\n",
              "      <td>13.2</td>\n",
              "    </tr>\n",
              "    <tr>\n",
              "      <th>1</th>\n",
              "      <td>1.0</td>\n",
              "      <td>3.67</td>\n",
              "      <td>320</td>\n",
              "      <td>748.5</td>\n",
              "      <td>NaN</td>\n",
              "      <td>NaN</td>\n",
              "      <td>3.670000</td>\n",
              "      <td>NaN</td>\n",
              "      <td>NaN</td>\n",
              "      <td>NaN</td>\n",
              "    </tr>\n",
              "    <tr>\n",
              "      <th>2</th>\n",
              "      <td>1.0</td>\n",
              "      <td>4.43</td>\n",
              "      <td>310</td>\n",
              "      <td>903.0</td>\n",
              "      <td>NaN</td>\n",
              "      <td>NaN</td>\n",
              "      <td>4.430000</td>\n",
              "      <td>NaN</td>\n",
              "      <td>NaN</td>\n",
              "      <td>NaN</td>\n",
              "    </tr>\n",
              "    <tr>\n",
              "      <th>3</th>\n",
              "      <td>1.0</td>\n",
              "      <td>5.41</td>\n",
              "      <td>300</td>\n",
              "      <td>1123.0</td>\n",
              "      <td>NaN</td>\n",
              "      <td>NaN</td>\n",
              "      <td>5.410000</td>\n",
              "      <td>NaN</td>\n",
              "      <td>NaN</td>\n",
              "      <td>NaN</td>\n",
              "    </tr>\n",
              "    <tr>\n",
              "      <th>4</th>\n",
              "      <td>0.7</td>\n",
              "      <td>5.00</td>\n",
              "      <td>290</td>\n",
              "      <td>1530.5</td>\n",
              "      <td>NaN</td>\n",
              "      <td>NaN</td>\n",
              "      <td>7.142857</td>\n",
              "      <td>NaN</td>\n",
              "      <td>NaN</td>\n",
              "      <td>NaN</td>\n",
              "    </tr>\n",
              "    <tr>\n",
              "      <th>5</th>\n",
              "      <td>1.0</td>\n",
              "      <td>2.68</td>\n",
              "      <td>340</td>\n",
              "      <td>568.0</td>\n",
              "      <td>NaN</td>\n",
              "      <td>NaN</td>\n",
              "      <td>2.680000</td>\n",
              "      <td>NaN</td>\n",
              "      <td>NaN</td>\n",
              "      <td>NaN</td>\n",
              "    </tr>\n",
              "    <tr>\n",
              "      <th>6</th>\n",
              "      <td>1.0</td>\n",
              "      <td>2.41</td>\n",
              "      <td>345</td>\n",
              "      <td>541.0</td>\n",
              "      <td>NaN</td>\n",
              "      <td>NaN</td>\n",
              "      <td>2.410000</td>\n",
              "      <td>NaN</td>\n",
              "      <td>NaN</td>\n",
              "      <td>NaN</td>\n",
              "    </tr>\n",
              "    <tr>\n",
              "      <th>7</th>\n",
              "      <td>1.0</td>\n",
              "      <td>2.24</td>\n",
              "      <td>339</td>\n",
              "      <td>580.0</td>\n",
              "      <td>NaN</td>\n",
              "      <td>NaN</td>\n",
              "      <td>2.240000</td>\n",
              "      <td>NaN</td>\n",
              "      <td>NaN</td>\n",
              "      <td>NaN</td>\n",
              "    </tr>\n",
              "    <tr>\n",
              "      <th>8</th>\n",
              "      <td>1.0</td>\n",
              "      <td>3.27</td>\n",
              "      <td>327</td>\n",
              "      <td>676.0</td>\n",
              "      <td>NaN</td>\n",
              "      <td>NaN</td>\n",
              "      <td>3.270000</td>\n",
              "      <td>NaN</td>\n",
              "      <td>NaN</td>\n",
              "      <td>NaN</td>\n",
              "    </tr>\n",
              "  </tbody>\n",
              "</table>\n",
              "</div>\n",
              "      <button class=\"colab-df-convert\" onclick=\"convertToInteractive('df-0a016685-14d8-44e2-aba7-962685e6c1d5')\"\n",
              "              title=\"Convert this dataframe to an interactive table.\"\n",
              "              style=\"display:none;\">\n",
              "        \n",
              "  <svg xmlns=\"http://www.w3.org/2000/svg\" height=\"24px\"viewBox=\"0 0 24 24\"\n",
              "       width=\"24px\">\n",
              "    <path d=\"M0 0h24v24H0V0z\" fill=\"none\"/>\n",
              "    <path d=\"M18.56 5.44l.94 2.06.94-2.06 2.06-.94-2.06-.94-.94-2.06-.94 2.06-2.06.94zm-11 1L8.5 8.5l.94-2.06 2.06-.94-2.06-.94L8.5 2.5l-.94 2.06-2.06.94zm10 10l.94 2.06.94-2.06 2.06-.94-2.06-.94-.94-2.06-.94 2.06-2.06.94z\"/><path d=\"M17.41 7.96l-1.37-1.37c-.4-.4-.92-.59-1.43-.59-.52 0-1.04.2-1.43.59L10.3 9.45l-7.72 7.72c-.78.78-.78 2.05 0 2.83L4 21.41c.39.39.9.59 1.41.59.51 0 1.02-.2 1.41-.59l7.78-7.78 2.81-2.81c.8-.78.8-2.07 0-2.86zM5.41 20L4 18.59l7.72-7.72 1.47 1.35L5.41 20z\"/>\n",
              "  </svg>\n",
              "      </button>\n",
              "      \n",
              "  <style>\n",
              "    .colab-df-container {\n",
              "      display:flex;\n",
              "      flex-wrap:wrap;\n",
              "      gap: 12px;\n",
              "    }\n",
              "\n",
              "    .colab-df-convert {\n",
              "      background-color: #E8F0FE;\n",
              "      border: none;\n",
              "      border-radius: 50%;\n",
              "      cursor: pointer;\n",
              "      display: none;\n",
              "      fill: #1967D2;\n",
              "      height: 32px;\n",
              "      padding: 0 0 0 0;\n",
              "      width: 32px;\n",
              "    }\n",
              "\n",
              "    .colab-df-convert:hover {\n",
              "      background-color: #E2EBFA;\n",
              "      box-shadow: 0px 1px 2px rgba(60, 64, 67, 0.3), 0px 1px 3px 1px rgba(60, 64, 67, 0.15);\n",
              "      fill: #174EA6;\n",
              "    }\n",
              "\n",
              "    [theme=dark] .colab-df-convert {\n",
              "      background-color: #3B4455;\n",
              "      fill: #D2E3FC;\n",
              "    }\n",
              "\n",
              "    [theme=dark] .colab-df-convert:hover {\n",
              "      background-color: #434B5C;\n",
              "      box-shadow: 0px 1px 3px 1px rgba(0, 0, 0, 0.15);\n",
              "      filter: drop-shadow(0px 1px 2px rgba(0, 0, 0, 0.3));\n",
              "      fill: #FFFFFF;\n",
              "    }\n",
              "  </style>\n",
              "\n",
              "      <script>\n",
              "        const buttonEl =\n",
              "          document.querySelector('#df-0a016685-14d8-44e2-aba7-962685e6c1d5 button.colab-df-convert');\n",
              "        buttonEl.style.display =\n",
              "          google.colab.kernel.accessAllowed ? 'block' : 'none';\n",
              "\n",
              "        async function convertToInteractive(key) {\n",
              "          const element = document.querySelector('#df-0a016685-14d8-44e2-aba7-962685e6c1d5');\n",
              "          const dataTable =\n",
              "            await google.colab.kernel.invokeFunction('convertToInteractive',\n",
              "                                                     [key], {});\n",
              "          if (!dataTable) return;\n",
              "\n",
              "          const docLinkHtml = 'Like what you see? Visit the ' +\n",
              "            '<a target=\"_blank\" href=https://colab.research.google.com/notebooks/data_table.ipynb>data table notebook</a>'\n",
              "            + ' to learn more about interactive tables.';\n",
              "          element.innerHTML = '';\n",
              "          dataTable['output_type'] = 'display_data';\n",
              "          await google.colab.output.renderOutput(dataTable, element);\n",
              "          const docLink = document.createElement('div');\n",
              "          docLink.innerHTML = docLinkHtml;\n",
              "          element.appendChild(docLink);\n",
              "        }\n",
              "      </script>\n",
              "    </div>\n",
              "  </div>\n",
              "  "
            ]
          },
          "metadata": {},
          "execution_count": 4
        }
      ]
    },
    {
      "cell_type": "code",
      "source": [
        "gp_data = np.array(Task1['Middle point distance (mm)']) - d_G\n",
        "bp_data = np.array(Task1['Total length (mm)']) - d_B - gp_data\n",
        "M = np.array(Task1['Magnification (mm)']) #Magnification\n",
        "gp_data = np.delete(gp_data,7)\n",
        "bp_data = np.delete(bp_data,7)\n",
        "M = np.delete(M,7)\n",
        "S = 1 + 1/M\n",
        "N = 1 + M\n",
        "gp_data, S, N"
      ],
      "metadata": {
        "colab": {
          "base_uri": "https://localhost:8080/"
        },
        "id": "oK9C_E4phLwd",
        "outputId": "6f4dfc15-b87a-4b0e-98d6-c8f95ebc4d10"
      },
      "execution_count": null,
      "outputs": [
        {
          "output_type": "execute_result",
          "data": {
            "text/plain": [
              "(array([293, 280, 270, 260, 250, 300, 305, 287]),\n",
              " array([1.33783784, 1.27247956, 1.22573363, 1.18484288, 1.14      ,\n",
              "        1.37313433, 1.41493776, 1.3058104 ]),\n",
              " array([3.96      , 4.67      , 5.43      , 6.41      , 8.14285714,\n",
              "        3.68      , 3.41      , 4.27      ]))"
            ]
          },
          "metadata": {},
          "execution_count": 5
        }
      ]
    },
    {
      "cell_type": "code",
      "source": [],
      "metadata": {
        "id": "EEMwd3PciM6i"
      },
      "execution_count": null,
      "outputs": []
    },
    {
      "cell_type": "code",
      "source": [
        "def gp(S, fsys, h):\n",
        "  return fsys*S + h\n",
        "def bp(N, fsys, hp):\n",
        "  return fsys*N + hp"
      ],
      "metadata": {
        "id": "LsCe0jVbXn7o"
      },
      "execution_count": null,
      "outputs": []
    },
    {
      "cell_type": "code",
      "source": [
        "def tot(M, fsys, h, hp):\n",
        "  return fsys*(1+1/M) + h - (fsys*(1+M) + hp)\n"
      ],
      "metadata": {
        "id": "cu13AYDZeinw"
      },
      "execution_count": null,
      "outputs": []
    },
    {
      "cell_type": "code",
      "source": [
        "popt1, pcov1 = curve_fit(gp, S, gp_data, p0 = [222,110])\n",
        "popt2, pcov2 = curve_fit(bp, N, bp_data, p0 = [200,100])\n",
        "\n",
        "Ns = np.linspace(2.410000,7.142857, 100)+1\n",
        "Ss = np.linspace(1.14,1.41493776, 100)\n",
        "fsys = (popt1[0]+popt2[0])/2\n",
        "fsys, popt1[1], popt2[1], np.sqrt(pcov1[0][0]),np.sqrt(pcov2[0][0]),np.sqrt(pcov1[1][1]),np.sqrt(pcov2[1][1]),popt2[0],"
      ],
      "metadata": {
        "colab": {
          "base_uri": "https://localhost:8080/"
        },
        "id": "CbWe_dS1fQf4",
        "outputId": "810c76ea-a356-4b8f-9694-82f8f3f87557"
      },
      "execution_count": null,
      "outputs": [
        {
          "output_type": "execute_result",
          "data": {
            "text/plain": [
              "(213.7372450513185,\n",
              " 18.08954161323632,\n",
              " -584.0655632364488,\n",
              " 6.776161019022986,\n",
              " 4.674715212458336,\n",
              " 8.706634920145747,\n",
              " 24.390022453446395,\n",
              " 222.6642062210091)"
            ]
          },
          "metadata": {},
          "execution_count": 17
        }
      ]
    },
    {
      "cell_type": "code",
      "source": [
        "(np.sqrt(pcov1[0][0])+np.sqrt(pcov2[0][0]))/2"
      ],
      "metadata": {
        "colab": {
          "base_uri": "https://localhost:8080/"
        },
        "id": "pCdjQPDxzEaV",
        "outputId": "df208534-e182-46f4-d8f8-b82de40624dd"
      },
      "execution_count": null,
      "outputs": [
        {
          "output_type": "execute_result",
          "data": {
            "text/plain": [
              "5.725438115740661"
            ]
          },
          "metadata": {},
          "execution_count": 21
        }
      ]
    },
    {
      "cell_type": "code",
      "source": [
        "plt.scatter(S,gp_data, c = 'g', label = 'data')\n",
        "plt.plot(Ss, gp(Ss, popt1[0],popt1[1]), c = 'r', label = 'fit')\n",
        "plt.xlabel(' $1+1/\\gamma$')\n",
        "plt.ylabel('$g^{\\prime}$ (mm)')\n",
        "plt.legend()\n",
        "plt.savefig('1.png',dpi = 500)"
      ],
      "metadata": {
        "colab": {
          "base_uri": "https://localhost:8080/",
          "height": 453
        },
        "id": "OzTpwp4Ujyuw",
        "outputId": "d211c13d-3b94-4679-b0ce-221c964ef0e0"
      },
      "execution_count": null,
      "outputs": [
        {
          "output_type": "display_data",
          "data": {
            "text/plain": [
              "<Figure size 640x480 with 1 Axes>"
            ],
            "image/png": "[encoded data removed]"
          },
          "metadata": {}
        }
      ]
    },
    {
      "cell_type": "code",
      "source": [
        "plt.scatter(N,bp_data, c = 'g', label = 'data')\n",
        "plt.plot(Ns, bp(Ns, popt2[0],popt2[1]), c = 'r', label = 'fit')\n",
        "plt.xlabel('$1+\\gamma$')\n",
        "plt.ylabel('$b^{\\prime}$ (mm)')\n",
        "plt.legend()\n",
        "plt.savefig('2.png',dpi = 500)"
      ],
      "metadata": {
        "colab": {
          "base_uri": "https://localhost:8080/",
          "height": 452
        },
        "id": "VhA4fdoklm6_",
        "outputId": "bef0d9ab-17fb-4424-eb27-26aa4d850343"
      },
      "execution_count": null,
      "outputs": [
        {
          "output_type": "display_data",
          "data": {
            "text/plain": [
              "<Figure size 640x480 with 1 Axes>"
            ],
            "image/png": "[encoded data removed]"
          },
          "metadata": {}
        }
      ]
    },
    {
      "cell_type": "code",
      "source": [
        "Task2.head()"
      ],
      "metadata": {
        "colab": {
          "base_uri": "https://localhost:8080/",
          "height": 143
        },
        "id": "uGkPze3_j75p",
        "outputId": "76de8e08-ae70-4e0b-c19e-fecd56beae11"
      },
      "execution_count": null,
      "outputs": [
        {
          "output_type": "execute_result",
          "data": {
            "text/plain": [
              "   d (L1)  x1 (L1)  x2 (L1)          f1  d (L2)  x1 (L2)  x2 (L2)          f2  \\\n",
              "0     600      198      488  114.958333    1400      586      912  331.022143   \n",
              "1     800      190      699  119.037188    1550      529     1102  334.543710   \n",
              "2     500      213      377  111.552000    1848      488     1437  340.165449   \n",
              "\n",
              "       f_sys  \n",
              "0  90.846330  \n",
              "1  93.376145  \n",
              "2  89.365466  "
            ],
            "text/html": [
              "\n",
              "  <div id=\"df-dd5cf257-8efc-4462-b330-4f0141988b90\">\n",
              "    <div class=\"colab-df-container\">\n",
              "      <div>\n",
              "<style scoped>\n",
              "    .dataframe tbody tr th:only-of-type {\n",
              "        vertical-align: middle;\n",
              "    }\n",
              "\n",
              "    .dataframe tbody tr th {\n",
              "        vertical-align: top;\n",
              "    }\n",
              "\n",
              "    .dataframe thead th {\n",
              "        text-align: right;\n",
              "    }\n",
              "</style>\n",
              "<table border=\"1\" class=\"dataframe\">\n",
              "  <thead>\n",
              "    <tr style=\"text-align: right;\">\n",
              "      <th></th>\n",
              "      <th>d (L1)</th>\n",
              "      <th>x1 (L1)</th>\n",
              "      <th>x2 (L1)</th>\n",
              "      <th>f1</th>\n",
              "      <th>d (L2)</th>\n",
              "      <th>x1 (L2)</th>\n",
              "      <th>x2 (L2)</th>\n",
              "      <th>f2</th>\n",
              "      <th>f_sys</th>\n",
              "    </tr>\n",
              "  </thead>\n",
              "  <tbody>\n",
              "    <tr>\n",
              "      <th>0</th>\n",
              "      <td>600</td>\n",
              "      <td>198</td>\n",
              "      <td>488</td>\n",
              "      <td>114.958333</td>\n",
              "      <td>1400</td>\n",
              "      <td>586</td>\n",
              "      <td>912</td>\n",
              "      <td>331.022143</td>\n",
              "      <td>90.846330</td>\n",
              "    </tr>\n",
              "    <tr>\n",
              "      <th>1</th>\n",
              "      <td>800</td>\n",
              "      <td>190</td>\n",
              "      <td>699</td>\n",
              "      <td>119.037188</td>\n",
              "      <td>1550</td>\n",
              "      <td>529</td>\n",
              "      <td>1102</td>\n",
              "      <td>334.543710</td>\n",
              "      <td>93.376145</td>\n",
              "    </tr>\n",
              "    <tr>\n",
              "      <th>2</th>\n",
              "      <td>500</td>\n",
              "      <td>213</td>\n",
              "      <td>377</td>\n",
              "      <td>111.552000</td>\n",
              "      <td>1848</td>\n",
              "      <td>488</td>\n",
              "      <td>1437</td>\n",
              "      <td>340.165449</td>\n",
              "      <td>89.365466</td>\n",
              "    </tr>\n",
              "  </tbody>\n",
              "</table>\n",
              "</div>\n",
              "      <button class=\"colab-df-convert\" onclick=\"convertToInteractive('df-dd5cf257-8efc-4462-b330-4f0141988b90')\"\n",
              "              title=\"Convert this dataframe to an interactive table.\"\n",
              "              style=\"display:none;\">\n",
              "        \n",
              "  <svg xmlns=\"http://www.w3.org/2000/svg\" height=\"24px\"viewBox=\"0 0 24 24\"\n",
              "       width=\"24px\">\n",
              "    <path d=\"M0 0h24v24H0V0z\" fill=\"none\"/>\n",
              "    <path d=\"M18.56 5.44l.94 2.06.94-2.06 2.06-.94-2.06-.94-.94-2.06-.94 2.06-2.06.94zm-11 1L8.5 8.5l.94-2.06 2.06-.94-2.06-.94L8.5 2.5l-.94 2.06-2.06.94zm10 10l.94 2.06.94-2.06 2.06-.94-2.06-.94-.94-2.06-.94 2.06-2.06.94z\"/><path d=\"M17.41 7.96l-1.37-1.37c-.4-.4-.92-.59-1.43-.59-.52 0-1.04.2-1.43.59L10.3 9.45l-7.72 7.72c-.78.78-.78 2.05 0 2.83L4 21.41c.39.39.9.59 1.41.59.51 0 1.02-.2 1.41-.59l7.78-7.78 2.81-2.81c.8-.78.8-2.07 0-2.86zM5.41 20L4 18.59l7.72-7.72 1.47 1.35L5.41 20z\"/>\n",
              "  </svg>\n",
              "      </button>\n",
              "      \n",
              "  <style>\n",
              "    .colab-df-container {\n",
              "      display:flex;\n",
              "      flex-wrap:wrap;\n",
              "      gap: 12px;\n",
              "    }\n",
              "\n",
              "    .colab-df-convert {\n",
              "      background-color: #E8F0FE;\n",
              "      border: none;\n",
              "      border-radius: 50%;\n",
              "      cursor: pointer;\n",
              "      display: none;\n",
              "      fill: #1967D2;\n",
              "      height: 32px;\n",
              "      padding: 0 0 0 0;\n",
              "      width: 32px;\n",
              "    }\n",
              "\n",
              "    .colab-df-convert:hover {\n",
              "      background-color: #E2EBFA;\n",
              "      box-shadow: 0px 1px 2px rgba(60, 64, 67, 0.3), 0px 1px 3px 1px rgba(60, 64, 67, 0.15);\n",
              "      fill: #174EA6;\n",
              "    }\n",
              "\n",
              "    [theme=dark] .colab-df-convert {\n",
              "      background-color: #3B4455;\n",
              "      fill: #D2E3FC;\n",
              "    }\n",
              "\n",
              "    [theme=dark] .colab-df-convert:hover {\n",
              "      background-color: #434B5C;\n",
              "      box-shadow: 0px 1px 3px 1px rgba(0, 0, 0, 0.15);\n",
              "      filter: drop-shadow(0px 1px 2px rgba(0, 0, 0, 0.3));\n",
              "      fill: #FFFFFF;\n",
              "    }\n",
              "  </style>\n",
              "\n",
              "      <script>\n",
              "        const buttonEl =\n",
              "          document.querySelector('#df-dd5cf257-8efc-4462-b330-4f0141988b90 button.colab-df-convert');\n",
              "        buttonEl.style.display =\n",
              "          google.colab.kernel.accessAllowed ? 'block' : 'none';\n",
              "\n",
              "        async function convertToInteractive(key) {\n",
              "          const element = document.querySelector('#df-dd5cf257-8efc-4462-b330-4f0141988b90');\n",
              "          const dataTable =\n",
              "            await google.colab.kernel.invokeFunction('convertToInteractive',\n",
              "                                                     [key], {});\n",
              "          if (!dataTable) return;\n",
              "\n",
              "          const docLinkHtml = 'Like what you see? Visit the ' +\n",
              "            '<a target=\"_blank\" href=https://colab.research.google.com/notebooks/data_table.ipynb>data table notebook</a>'\n",
              "            + ' to learn more about interactive tables.';\n",
              "          element.innerHTML = '';\n",
              "          dataTable['output_type'] = 'display_data';\n",
              "          await google.colab.output.renderOutput(dataTable, element);\n",
              "          const docLink = document.createElement('div');\n",
              "          docLink.innerHTML = docLinkHtml;\n",
              "          element.appendChild(docLink);\n",
              "        }\n",
              "      </script>\n",
              "    </div>\n",
              "  </div>\n",
              "  "
            ]
          },
          "metadata": {},
          "execution_count": 11
        }
      ]
    },
    {
      "cell_type": "code",
      "source": [
        "dL1 = np.array(Task2['d (L1)']) - d_G\n",
        "dL2 = np.array(Task2['d (L2)']) - d_G\n",
        "x1L1 = np.array(Task2['x1 (L1)']) - d_G\n",
        "x2L1 = np.array(Task2['x2 (L1)']) - d_G\n",
        "x1L2 = np.array(Task2['x1 (L2)']) - d_G\n",
        "x2L2 = np.array(Task2['x2 (L2)']) - d_G"
      ],
      "metadata": {
        "id": "w0kwFy1HmlXq"
      },
      "execution_count": null,
      "outputs": []
    },
    {
      "cell_type": "code",
      "source": [
        "F1 = (dL1**2 - (x2L1-x1L1)**2)/(4*dL1)\n",
        "F2 = (dL2**2 - (x2L2-x1L2)**2)/(4*dL2)\n",
        "F1_avg = np.average(F1)\n",
        "F2_avg = np.average(F2)\n",
        "\n",
        "\n",
        "notFsys = 1/F1_avg + 1/F2_avg - d_L/(F1_avg*F2_avg)\n",
        "Fsys = 1/notFsys\n",
        "Fsys,F1_avg, F2_avg"
      ],
      "metadata": {
        "colab": {
          "base_uri": "https://localhost:8080/"
        },
        "id": "0qmah6R6z1nW",
        "outputId": "0662be5d-fde6-40a0-e39c-379e99bb2c35"
      },
      "execution_count": null,
      "outputs": [
        {
          "output_type": "execute_result",
          "data": {
            "text/plain": [
              "(215.2030826132404, 102.53798422687153, 323.691619698999)"
            ]
          },
          "metadata": {},
          "execution_count": 13
        }
      ]
    },
    {
      "cell_type": "code",
      "source": [],
      "metadata": {
        "id": "Uo5xG_xz_uGR"
      },
      "execution_count": null,
      "outputs": []
    },
    {
      "cell_type": "code",
      "source": [],
      "metadata": {
        "id": "UKqgB9Lr_50d"
      },
      "execution_count": null,
      "outputs": []
    },
    {
      "cell_type": "code",
      "source": [],
      "metadata": {
        "id": "0MbmKebJ0Nj6"
      },
      "execution_count": null,
      "outputs": []
    },
    {
      "cell_type": "code",
      "source": [],
      "metadata": {
        "id": "dKSx9LZPAK_E"
      },
      "execution_count": null,
      "outputs": []
    }
  ]
}